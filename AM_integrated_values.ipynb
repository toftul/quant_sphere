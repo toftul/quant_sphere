{
 "cells": [
  {
   "cell_type": "code",
   "execution_count": 1,
   "id": "416781ca-224c-4a44-9865-d83b415d6b16",
   "metadata": {},
   "outputs": [],
   "source": [
    "from src.dispersion import * \n",
    "from src.VSH import * \n",
    "from src.extra_special import * \n",
    "from src.fields import (\n",
    "    E_,\n",
    "    H_,\n",
    "    E_cart_,\n",
    "    H_cart_\n",
    ")\n",
    "from src.AM import *\n",
    "from src.misc import *\n",
    "\n",
    "import numpy as np\n",
    "import scipy.constants as const\n",
    "import scipy.special as sp\n",
    "from scipy import integrate\n",
    "from cxroots import Rectangle, AnnulusSector, Circle\n",
    "import cxroots\n",
    "from icecream import ic\n",
    "\n",
    "import matplotlib.pyplot as plt\n",
    "import matplotlib as mpl\n",
    "import matplotlib.patheffects as pe  # for text effects \n",
    "plt.rcParams.update({'font.size': 18})\n",
    "\n",
    "Z_0 = np.sqrt(const.mu_0 / const.epsilon_0)  # vacuum impedance"
   ]
  },
  {
   "cell_type": "code",
   "execution_count": 2,
   "id": "adf30059-793d-45e7-b40e-049a9107b073",
   "metadata": {},
   "outputs": [],
   "source": [
    "particle_type = \"dielectric\"  # \"dielectric\" or \"metallic\"\n",
    "eps_dielectric = 10 + 0.0j\n",
    "mu_dielectric = 1.0 + 0.0j\n",
    "\n",
    "n = 1  # m = -n, ..., n\n",
    "\n",
    "a = 50*const.nano\n",
    "\n",
    "mode_type = \"TE\"  # \"TE\" or \"TM\"\n",
    "\n",
    "eps_out = 1\n",
    "mu_out = 1\n",
    "\n",
    "n_in = np.sqrt(eps_dielectric * mu_dielectric)\n",
    "n_out = np.sqrt(eps_out * mu_out)"
   ]
  },
  {
   "cell_type": "code",
   "execution_count": 3,
   "id": "db60d510-f865-471f-9b4f-283e0e2c24a4",
   "metadata": {},
   "outputs": [
    {
     "name": "stderr",
     "output_type": "stream",
     "text": [
      "/home/ivan/Documents/code/quant_sphere/src/VSH.py:436: RuntimeWarning: invalid value encountered in true_divide\n",
      "  Nr = n*(n+1) * zn/rho * Ymn\n",
      "/home/ivan/Documents/code/quant_sphere/src/VSH.py:437: RuntimeWarning: divide by zero encountered in true_divide\n",
      "  Nt = 1/rho * (zn + rho * znp) * dYmn\n",
      "/home/ivan/Documents/code/quant_sphere/src/VSH.py:437: RuntimeWarning: invalid value encountered in true_divide\n",
      "  Nt = 1/rho * (zn + rho * znp) * dYmn\n",
      "/home/ivan/Documents/code/quant_sphere/src/VSH.py:438: RuntimeWarning: divide by zero encountered in true_divide\n",
      "  Np = 1j*m/np.sin(theta) * 1/rho * (zn + rho * znp) * Ymn\n",
      "/home/ivan/Documents/code/quant_sphere/src/VSH.py:438: RuntimeWarning: invalid value encountered in true_divide\n",
      "  Np = 1j*m/np.sin(theta) * 1/rho * (zn + rho * znp) * Ymn\n"
     ]
    }
   ],
   "source": [
    "ka = 0.8\n",
    "\n",
    "omega = const.speed_of_light / a / np.sqrt(eps_out * mu_out) * ka\n",
    "k0 = omega / const.speed_of_light\n",
    "\n",
    "part = \"both\"\n",
    "\n",
    "n, m = 1, 1\n",
    "\n",
    "rrmax = np.linspace(0.2*a, stop=60*a, num=50)\n",
    "W = np.array([])\n",
    "W_analit = np.array([])\n",
    "\n",
    "Jz = np.array([])\n",
    "Lz = np.array([])\n",
    "Sz = np.array([])\n",
    "\n",
    "for rmax in rrmax:\n",
    "    rr = np.linspace(0, stop=rmax, num=300)\n",
    "    tt = np.linspace(0, stop=np.pi, num=50)\n",
    "    phi = 2.0\n",
    "    \n",
    "    W = np.append(\n",
    "        W, \n",
    "        ntrapz(\n",
    "            lambda x1, x2:  2*np.pi * np.sin(x2) * x1**2 * W_(m, n, x1, x2, phi, mode_type, a, omega, particle_type, eps_out, mu_out, eps_dielectric, mu_dielectric, part=part),\n",
    "            x1 = rr,\n",
    "            x2 = tt\n",
    "        )\n",
    "    )\n",
    "    \"\"\"\n",
    "    Jz_int = integrate.nquad(\n",
    "        lambda x1, x2:  2*np.pi * np.sin(x2) * x1**2 * Jz_(m, n, x1, x2, phi, mode_type, a, omega, particle_type, eps_out, mu_out, eps_dielectric, mu_dielectric, part=part),\n",
    "        ranges,\n",
    "        opts={'epsrel':1e-3}    \n",
    "    )[0]\n",
    "    Jz = np.append(Jz, Jz_int)\n",
    "    \n",
    "    Lz_int = integrate.nquad(\n",
    "        lambda x1, x2:  2*np.pi * np.sin(x2) * x1**2 * Lz_(m, n, x1, x2, phi, mode_type, a, omega, particle_type, eps_out, mu_out, eps_dielectric, mu_dielectric, part=part),\n",
    "        ranges,\n",
    "        opts={'epsrel':1e-3}    \n",
    "    )[0]\n",
    "    Lz = np.append(Lz, Lz_int)\n",
    "    \n",
    "    Sz_int = integrate.nquad(\n",
    "        lambda x1, x2:  2*np.pi * np.sin(x2) * x1**2 * Sz_(m, n, x1, x2, phi, mode_type, a, omega, particle_type, eps_out, mu_out, eps_dielectric, mu_dielectric, part=part),\n",
    "        ranges,\n",
    "        opts={'epsrel':1e-3}    \n",
    "    )[0]\n",
    "    Sz = np.append(Sz, Sz_int)\n",
    "    \"\"\"\n",
    "    "
   ]
  },
  {
   "cell_type": "code",
   "execution_count": 7,
   "id": "928a677e-f7e5-4d5e-adda-c0c56ef0cd6e",
   "metadata": {},
   "outputs": [],
   "source": [
    "ka = 0.8\n",
    "\n",
    "omega = const.speed_of_light / a / np.sqrt(eps_out * mu_out) * ka\n",
    "k0 = omega / const.speed_of_light\n",
    "\n",
    "part = \"both\"\n",
    "\n",
    "n, m = 1, 1\n",
    "\n",
    "rrmax = np.linspace(0.2*a, stop=60*a, num=50)\n",
    "W = np.array([])\n",
    "W_analit = np.array([])\n",
    "\n",
    "Jz = np.array([])\n",
    "Lz = np.array([])\n",
    "Sz = np.array([])\n",
    "\n",
    "for rmax in rrmax:\n",
    "    ranges = [\n",
    "        [0.01, rmax],  # r\n",
    "        [0.001, np.pi-0.001]  # theta\n",
    "    ]\n",
    "    phi = 2.0\n",
    "    \n",
    "    W_int = integrate.nquad(\n",
    "        lambda x1, x2:  2*np.pi * np.sin(x2) * x1**2 * W_(m, n, x1, x2, phi, mode_type, a, omega, particle_type, eps_out, mu_out, eps_dielectric, mu_dielectric, part=part),\n",
    "        ranges,\n",
    "        opts={'epsrel':1e-3}    \n",
    "    )[0]\n",
    "    W = np.append(W, W_int)\n",
    "    \n",
    "    #W_analit = np.append(W_analit, get_int_val(j, k0, a, n_in, n_out, rmax=rmax))\n",
    "    \n",
    "    \"\"\"\n",
    "    Jz_int = integrate.nquad(\n",
    "        lambda x1, x2:  2*np.pi * np.sin(x2) * x1**2 * Jz_(m, n, x1, x2, phi, mode_type, a, omega, particle_type, eps_out, mu_out, eps_dielectric, mu_dielectric, part=part),\n",
    "        ranges,\n",
    "        opts={'epsrel':1e-3}    \n",
    "    )[0]\n",
    "    Jz = np.append(Jz, Jz_int)\n",
    "    \n",
    "    Lz_int = integrate.nquad(\n",
    "        lambda x1, x2:  2*np.pi * np.sin(x2) * x1**2 * Lz_(m, n, x1, x2, phi, mode_type, a, omega, particle_type, eps_out, mu_out, eps_dielectric, mu_dielectric, part=part),\n",
    "        ranges,\n",
    "        opts={'epsrel':1e-3}    \n",
    "    )[0]\n",
    "    Lz = np.append(Lz, Lz_int)\n",
    "    \n",
    "    Sz_int = integrate.nquad(\n",
    "        lambda x1, x2:  2*np.pi * np.sin(x2) * x1**2 * Sz_(m, n, x1, x2, phi, mode_type, a, omega, particle_type, eps_out, mu_out, eps_dielectric, mu_dielectric, part=part),\n",
    "        ranges,\n",
    "        opts={'epsrel':1e-3}    \n",
    "    )[0]\n",
    "    Sz = np.append(Sz, Sz_int)\n",
    "    \"\"\"\n",
    "    "
   ]
  },
  {
   "cell_type": "code",
   "execution_count": 8,
   "id": "ccced803-9b1b-4b09-8e8a-aba4a6459e9f",
   "metadata": {},
   "outputs": [
    {
     "data": {
      "text/plain": [
       "array([-1.47576803e-29, -1.47575902e-29, -1.47575001e-29, -1.47574101e-29,\n",
       "       -1.47573200e-29, -1.47572299e-29, -1.47571399e-29, -1.47570498e-29,\n",
       "       -1.47569597e-29, -1.47568697e-29, -1.47567796e-29, -1.47566895e-29,\n",
       "       -1.47565995e-29, -1.47565094e-29, -1.47564193e-29, -1.47563293e-29,\n",
       "       -1.47562392e-29, -1.47561492e-29, -1.47560591e-29, -1.47559690e-29,\n",
       "       -1.47558790e-29, -1.47557889e-29, -1.47556988e-29, -1.47556088e-29,\n",
       "       -1.47555187e-29, -1.47554286e-29, -1.47553386e-29, -1.47552485e-29,\n",
       "       -1.47551585e-29, -1.47550684e-29, -1.47549783e-29, -1.47548883e-29,\n",
       "       -1.47547982e-29, -1.47547081e-29, -1.47546181e-29, -1.47545280e-29,\n",
       "       -1.47544380e-29, -1.47543479e-29, -1.47542578e-29, -1.47541678e-29,\n",
       "       -1.47540777e-29, -1.47539877e-29, -1.47538976e-29, -1.47538075e-29,\n",
       "       -1.47537175e-29, -1.47536274e-29, -1.47535374e-29, -1.47534473e-29,\n",
       "       -1.47533572e-29, -1.47532672e-29])"
      ]
     },
     "execution_count": 8,
     "metadata": {},
     "output_type": "execute_result"
    }
   ],
   "source": [
    "W"
   ]
  },
  {
   "cell_type": "code",
   "execution_count": 71,
   "id": "fb216aac-6498-4847-a1b9-47595cd16d7d",
   "metadata": {},
   "outputs": [],
   "source": [
    "j = n\n",
    "A_TE = 1\n",
    "B_TE = A_TE * sp.spherical_jn(j, n_in*a*k0) / spherical_h1(j, n_out*a*k0)\n",
    "\n",
    "def num(r, j, k0, a, n_in, n_out):\n",
    "    zj = np.where(\n",
    "        r <= a,\n",
    "        A_TE * sp.spherical_jn(j, n_in*r*k0),\n",
    "        B_TE * spherical_h1(j, n_out*r*k0)\n",
    "    )\n",
    "    return 2 * r**2 * np.abs(zj)**2\n",
    "\n",
    "def den(r, j, k0, a, n_in, n_out):\n",
    "    zj = np.where(\n",
    "        r <= a,\n",
    "        A_TE * sp.spherical_jn(j, n_in*r*k0),\n",
    "        B_TE * spherical_h1(j, n_out*r*k0)\n",
    "    )\n",
    "    zjm1 = np.where(\n",
    "        r <= a,\n",
    "        A_TE * sp.spherical_jn(j-1, n_in*r*k0),\n",
    "        B_TE * spherical_h1(j-1, n_out*r*k0)\n",
    "    )\n",
    "    zjp1 = np.where(\n",
    "        r <= a,\n",
    "        A_TE * sp.spherical_jn(j+1, n_in*r*k0),\n",
    "        B_TE * spherical_h1(j+1, n_out*r*k0)\n",
    "    )\n",
    "    \n",
    "    return r**2 * (np.abs(zj)**2 + (j+1)/(2*j+1) * np.abs(zjm1)**2 + j/(2*j+1) * np.abs(zjp1)**2)\n",
    "\n",
    "def get_int_val(j, k0, a, n_in, n_out, rmin=0, rmax=100):\n",
    "    ranges = [[rmin, rmax]]\n",
    "    \n",
    "    prms = (j, k0, a, n_in, n_out)\n",
    "    \"\"\"\n",
    "    int_num = integrate.nquad(\n",
    "        lambda r: num(r, *prms), \n",
    "        ranges,\n",
    "        opts={'epsrel':1e-9}    \n",
    "    )[0] \n",
    "    int_den = integrate.nquad(\n",
    "        lambda r: den(r, *prms), \n",
    "        ranges,\n",
    "        opts={'epsrel':1e-9}    \n",
    "    )[0]\n",
    "    \"\"\"\n",
    "    \n",
    "    rr = np.linspace(rmin, stop=rmax, num=1000)\n",
    "    int_den = np.trapz(den(rr, *prms), rr)\n",
    "    \n",
    "    return 0.25*j*(j+1)*int_den #int_num / int_den "
   ]
  },
  {
   "cell_type": "code",
   "execution_count": 72,
   "id": "12b8c875-48fc-496e-b3d5-12742929a36d",
   "metadata": {},
   "outputs": [
    {
     "data": {
      "image/png": "[encoded data removed]",
      "text/plain": [
       "<Figure size 432x288 with 1 Axes>"
      ]
     },
     "metadata": {
      "needs_background": "light"
     },
     "output_type": "display_data"
    },
    {
     "data": {
      "image/png": "[encoded data removed]",
      "text/plain": [
       "<Figure size 432x288 with 1 Axes>"
      ]
     },
     "metadata": {
      "needs_background": "light"
     },
     "output_type": "display_data"
    }
   ],
   "source": [
    "rr = np.linspace(10*a, stop=50*a, num=300)\n",
    "\n",
    "rrmax = np.linspace(1.1*a, stop=50*a, num=400)\n",
    "\n",
    "tmp = []\n",
    "for rmax in rrmax:\n",
    "    tmp.append(get_int_val(j, k0, a, n_in, n_out, rmin=0, rmax=rmax))\n",
    "\n",
    "plt.plot(rrmax, tmp)\n",
    "plt.show()\n",
    "plt.plot(rr, den(rr, j, k0, a, n_in, n_out))\n",
    "plt.show()"
   ]
  },
  {
   "cell_type": "code",
   "execution_count": 9,
   "id": "41fee051-c900-41fd-a42c-e01314e95c84",
   "metadata": {},
   "outputs": [
    {
     "data": {
      "image/png": "[encoded data removed]",
      "text/plain": [
       "<Figure size 432x288 with 1 Axes>"
      ]
     },
     "metadata": {
      "needs_background": "light"
     },
     "output_type": "display_data"
    }
   ],
   "source": [
    "plt.scatter(rrmax/a, W, label='numerical')\n",
    "#plt.scatter(rrmax/a, const.epsilon_0 * W_analit, label='analytical')\n",
    "plt.legend()\n",
    "\n",
    "plt.grid()\n",
    "plt.show()"
   ]
  },
  {
   "cell_type": "code",
   "execution_count": 7,
   "id": "397d6e77-86fc-4533-95d5-50946a3aad5d",
   "metadata": {},
   "outputs": [
    {
     "data": {
      "image/png": "[encoded data removed]",
      "text/plain": [
       "<Figure size 432x288 with 1 Axes>"
      ]
     },
     "metadata": {
      "needs_background": "light"
     },
     "output_type": "display_data"
    }
   ],
   "source": [
    "#plt.scatter(rrmax/a, W)\n",
    "plt.scatter(rrmax/a, omega*np.array(Jz)/W)\n",
    "plt.scatter(rrmax/a, omega*np.array(Lz)/W)\n",
    "plt.scatter(rrmax/a, omega*np.array(Sz)/W)\n",
    "\n",
    "plt.grid()\n",
    "\n",
    "plt.show()"
   ]
  },
  {
   "cell_type": "code",
   "execution_count": null,
   "id": "57a2e464-e102-4432-b1ca-ddc96089a1d1",
   "metadata": {},
   "outputs": [],
   "source": []
  },
  {
   "cell_type": "code",
   "execution_count": 51,
   "id": "95d30dd3-bc1d-47eb-98ca-9267ba1985f0",
   "metadata": {},
   "outputs": [
    {
     "data": {
      "image/png": "[encoded data removed]",
      "text/plain": [
       "<Figure size 432x288 with 2 Axes>"
      ]
     },
     "metadata": {
      "needs_background": "light"
     },
     "output_type": "display_data"
    }
   ],
   "source": [
    "ka = 0.01\n",
    "\n",
    "omega = const.speed_of_light / a / np.sqrt(eps_out * mu_out) * ka\n",
    "\n",
    "N = 100\n",
    "boxSize = 75*a\n",
    "\n",
    "part = \"both\"\n",
    "\n",
    "n = 1\n",
    "m = 1\n",
    "\n",
    "xx = np.linspace(-boxSize, stop=boxSize, num=N)\n",
    "y = 0\n",
    "zz = np.linspace(-boxSize, stop=boxSize, num=N)\n",
    "\n",
    "\n",
    "X, Z = np.meshgrid(xx, zz, sparse=False, indexing='ij')\n",
    "\n",
    "R, THETA, PHI = cart2sph(X, y, Z)\n",
    "\n",
    "W = W_(\n",
    "    m, n, \n",
    "    R, THETA, PHI, \n",
    "    mode_type, a, omega, particle_type, \n",
    "    eps_out, mu_out, eps_dielectric, mu_dielectric, part=part\n",
    ")\n",
    "plt.contourf(X/a, Z/a, np.log(W), cmap='viridis', levels=90)\n",
    "plt.colorbar()\n",
    "plt.show()"
   ]
  },
  {
   "cell_type": "code",
   "execution_count": 11,
   "id": "d593a83e-4d5f-4574-b960-238cf68d2aa1",
   "metadata": {},
   "outputs": [
    {
     "data": {
      "image/png": "[encoded data removed]",
      "text/plain": [
       "<Figure size 432x288 with 1 Axes>"
      ]
     },
     "metadata": {
      "needs_background": "light"
     },
     "output_type": "display_data"
    }
   ],
   "source": [
    "def foo(x):\n",
    "    return x - 3*np.cos(x)\n",
    "\n",
    "a, b = 0, 10\n",
    "\n",
    "xx = np.linspace(a, stop=b, num=300)\n",
    "\n",
    "plt.plot(xx, foo(xx))\n",
    "plt.show()"
   ]
  },
  {
   "cell_type": "code",
   "execution_count": 12,
   "id": "b5959d75-5950-4e2e-b2a6-0bc57e24f83b",
   "metadata": {},
   "outputs": [],
   "source": [
    "sss = integrate.nquad(\n",
    "        foo, \n",
    "        [[a, b]],\n",
    "        opts={'epsrel':1e-9}    \n",
    "    )[0] "
   ]
  },
  {
   "cell_type": "code",
   "execution_count": 13,
   "id": "565bf2d4-17f6-4dde-9070-8d8281d61b1e",
   "metadata": {},
   "outputs": [
    {
     "data": {
      "text/plain": [
       "0.15899861328820464"
      ]
     },
     "execution_count": 13,
     "metadata": {},
     "output_type": "execute_result"
    }
   ],
   "source": [
    "f = foo(xx)\n",
    "dx = xx[1] - xx[0]\n",
    "\n",
    "np.sum(f)*dx - sss"
   ]
  },
  {
   "cell_type": "code",
   "execution_count": 14,
   "id": "0daa66f6-2778-46ad-b4ac-18b4c2bc2e52",
   "metadata": {},
   "outputs": [
    {
     "data": {
      "text/plain": [
       "-0.00015213231762345458"
      ]
     },
     "execution_count": 14,
     "metadata": {},
     "output_type": "execute_result"
    }
   ],
   "source": [
    "np.trapz(f, xx) - sss"
   ]
  },
  {
   "cell_type": "code",
   "execution_count": 15,
   "id": "98776e2c-1361-4001-abaa-41511834b341",
   "metadata": {},
   "outputs": [
    {
     "data": {
      "text/plain": [
       "7.606722238051589e-05"
      ]
     },
     "execution_count": 15,
     "metadata": {},
     "output_type": "execute_result"
    }
   ],
   "source": [
    "midpoint_sum(foo, xx) - sss"
   ]
  },
  {
   "cell_type": "code",
   "execution_count": 16,
   "id": "c8b8cb7b-86d1-4276-a345-eb562bbbbe11",
   "metadata": {},
   "outputs": [
    {
     "data": {
      "text/plain": [
       "7.212739490114473e-07"
      ]
     },
     "execution_count": 16,
     "metadata": {},
     "output_type": "execute_result"
    }
   ],
   "source": [
    "integrate.simpson(f, xx) - sss"
   ]
  },
  {
   "cell_type": "code",
   "execution_count": 108,
   "id": "aa5a9677-f5ec-4618-b25c-390218de2a04",
   "metadata": {},
   "outputs": [],
   "source": [
    "def midpoint_sum(foo, x):\n",
    "    xmid = (x[1:] + x[:-1]) / 2 # https://stackoverflow.com/a/23856065\n",
    "    dx = np.diff(x)  # x[1:] - x[:-1]\n",
    "    return (foo(xmid) * dx).sum()"
   ]
  },
  {
   "cell_type": "code",
   "execution_count": 105,
   "id": "d3eb4fcd-63e5-4a14-a120-41f329b3dfb3",
   "metadata": {},
   "outputs": [
    {
     "data": {
      "text/plain": [
       "31.03729854823949"
      ]
     },
     "execution_count": 105,
     "metadata": {},
     "output_type": "execute_result"
    }
   ],
   "source": [
    "x = np.linspace(1, stop=8, num=8)\n",
    "xmid = (x[1:] + x[:-1]) / 2 # https://stackoverflow.com/a/23856065\n",
    "dx = x[1:] - x[:-1]\n",
    "s = (foo(xmid) * dx).sum()\n",
    "s"
   ]
  },
  {
   "cell_type": "code",
   "execution_count": 107,
   "id": "945d213e-4b26-453e-a519-3fd076635d08",
   "metadata": {},
   "outputs": [
    {
     "data": {
      "text/plain": [
       "array([1., 1., 1., 1., 1., 1., 1.])"
      ]
     },
     "execution_count": 107,
     "metadata": {},
     "output_type": "execute_result"
    }
   ],
   "source": [
    "np.diff(x)"
   ]
  },
  {
   "cell_type": "code",
   "execution_count": 87,
   "id": "67153857-1a7a-442c-ac52-0c87c6c3443e",
   "metadata": {},
   "outputs": [
    {
     "data": {
      "text/plain": [
       "array([1., 2., 3., 4., 5., 6., 7.])"
      ]
     },
     "execution_count": 87,
     "metadata": {},
     "output_type": "execute_result"
    }
   ],
   "source": [
    "x[:-1]"
   ]
  },
  {
   "cell_type": "code",
   "execution_count": 88,
   "id": "dec2efda-f964-4441-a664-976009904fd7",
   "metadata": {},
   "outputs": [
    {
     "data": {
      "text/plain": [
       "array([2., 3., 4., 5., 6., 7., 8.])"
      ]
     },
     "execution_count": 88,
     "metadata": {},
     "output_type": "execute_result"
    }
   ],
   "source": [
    "x[1:]"
   ]
  },
  {
   "cell_type": "code",
   "execution_count": null,
   "id": "29a6dc18-e7ba-4715-9f44-7ffc24d6df6f",
   "metadata": {},
   "outputs": [],
   "source": []
  },
  {
   "cell_type": "code",
   "execution_count": null,
   "id": "9990919d-e691-4693-a814-7b609acc3a9f",
   "metadata": {},
   "outputs": [],
   "source": []
  },
  {
   "cell_type": "code",
   "execution_count": null,
   "id": "c8670f5a-867f-4eeb-869d-003d62b17c3d",
   "metadata": {},
   "outputs": [],
   "source": []
  },
  {
   "cell_type": "code",
   "execution_count": 33,
   "id": "43ddce5d-bf76-4371-b983-aac5fb3f436a",
   "metadata": {},
   "outputs": [
    {
     "data": {
      "text/plain": [
       "1.0"
      ]
     },
     "execution_count": 33,
     "metadata": {},
     "output_type": "execute_result"
    }
   ],
   "source": [
    "def foo(x, y):\n",
    "    return (x+y)*(x**2 + y)\n",
    "\n",
    "ranges = [[0, 1], [0, 1]]\n",
    "\n",
    "integrate.nquad(\n",
    "    foo, \n",
    "    ranges,\n",
    "    opts={'epsrel':1e-4}    \n",
    ")[0]  # gives 1.5"
   ]
  },
  {
   "cell_type": "code",
   "execution_count": 44,
   "id": "94412387-5cd0-47cf-8273-5a3be96f1e6d",
   "metadata": {},
   "outputs": [
    {
     "data": {
      "text/plain": [
       "1.0000205010455532"
      ]
     },
     "execution_count": 44,
     "metadata": {},
     "output_type": "execute_result"
    }
   ],
   "source": [
    "xx = np.linspace(0, stop=1, num=30)\n",
    "yy = np.linspace(0, stop=1, num=30)\n",
    "\n",
    "X, Y = np.meshgrid(xx, yy, indexing='ij')\n",
    "\n",
    "Z = foo(X, Y)\n",
    "\n",
    "integrate.simpson(integrate.simpson(Z, Y), X[:, 0])\n"
   ]
  },
  {
   "cell_type": "code",
   "execution_count": 103,
   "id": "3592c56a-f236-4e5d-ba64-0d77b258ed34",
   "metadata": {},
   "outputs": [
    {
     "ename": "TypeError",
     "evalue": "only size-1 arrays can be converted to Python scalars",
     "output_type": "error",
     "traceback": [
      "\u001b[0;31m---------------------------------------------------------------------------\u001b[0m",
      "\u001b[0;31mTypeError\u001b[0m                                 Traceback (most recent call last)",
      "\u001b[0;32m/tmp/ipykernel_26984/3969846850.py\u001b[0m in \u001b[0;36m<module>\u001b[0;34m\u001b[0m\n\u001b[1;32m      6\u001b[0m \u001b[0mranges\u001b[0m \u001b[0;34m=\u001b[0m \u001b[0;34m[\u001b[0m\u001b[0;34m[\u001b[0m\u001b[0;36m0\u001b[0m\u001b[0;34m,\u001b[0m \u001b[0;36m1\u001b[0m\u001b[0;34m]\u001b[0m\u001b[0;34m,\u001b[0m \u001b[0;34m[\u001b[0m\u001b[0;36m0\u001b[0m\u001b[0;34m,\u001b[0m \u001b[0;36m1\u001b[0m\u001b[0;34m]\u001b[0m\u001b[0;34m,\u001b[0m \u001b[0;34m[\u001b[0m\u001b[0;36m0\u001b[0m\u001b[0;34m,\u001b[0m \u001b[0;36m1\u001b[0m\u001b[0;34m]\u001b[0m\u001b[0;34m]\u001b[0m\u001b[0;34m\u001b[0m\u001b[0;34m\u001b[0m\u001b[0m\n\u001b[1;32m      7\u001b[0m \u001b[0;34m\u001b[0m\u001b[0m\n\u001b[0;32m----> 8\u001b[0;31m integrate.nquad(\n\u001b[0m\u001b[1;32m      9\u001b[0m     \u001b[0mfoo\u001b[0m\u001b[0;34m,\u001b[0m\u001b[0;34m\u001b[0m\u001b[0;34m\u001b[0m\u001b[0m\n\u001b[1;32m     10\u001b[0m     \u001b[0mranges\u001b[0m\u001b[0;34m,\u001b[0m\u001b[0;34m\u001b[0m\u001b[0;34m\u001b[0m\u001b[0m\n",
      "\u001b[0;32m~/.local/lib/python3.10/site-packages/scipy/integrate/quadpack.py\u001b[0m in \u001b[0;36mnquad\u001b[0;34m(func, ranges, args, opts, full_output)\u001b[0m\n\u001b[1;32m    823\u001b[0m     \u001b[0;32melse\u001b[0m\u001b[0;34m:\u001b[0m\u001b[0;34m\u001b[0m\u001b[0;34m\u001b[0m\u001b[0m\n\u001b[1;32m    824\u001b[0m         \u001b[0mopts\u001b[0m \u001b[0;34m=\u001b[0m \u001b[0;34m[\u001b[0m\u001b[0mopt\u001b[0m \u001b[0;32mif\u001b[0m \u001b[0mcallable\u001b[0m\u001b[0;34m(\u001b[0m\u001b[0mopt\u001b[0m\u001b[0;34m)\u001b[0m \u001b[0;32melse\u001b[0m \u001b[0m_OptFunc\u001b[0m\u001b[0;34m(\u001b[0m\u001b[0mopt\u001b[0m\u001b[0;34m)\u001b[0m \u001b[0;32mfor\u001b[0m \u001b[0mopt\u001b[0m \u001b[0;32min\u001b[0m \u001b[0mopts\u001b[0m\u001b[0;34m]\u001b[0m\u001b[0;34m\u001b[0m\u001b[0;34m\u001b[0m\u001b[0m\n\u001b[0;32m--> 825\u001b[0;31m     \u001b[0;32mreturn\u001b[0m \u001b[0m_NQuad\u001b[0m\u001b[0;34m(\u001b[0m\u001b[0mfunc\u001b[0m\u001b[0;34m,\u001b[0m \u001b[0mranges\u001b[0m\u001b[0;34m,\u001b[0m \u001b[0mopts\u001b[0m\u001b[0;34m,\u001b[0m \u001b[0mfull_output\u001b[0m\u001b[0;34m)\u001b[0m\u001b[0;34m.\u001b[0m\u001b[0mintegrate\u001b[0m\u001b[0;34m(\u001b[0m\u001b[0;34m*\u001b[0m\u001b[0margs\u001b[0m\u001b[0;34m)\u001b[0m\u001b[0;34m\u001b[0m\u001b[0;34m\u001b[0m\u001b[0m\n\u001b[0m\u001b[1;32m    826\u001b[0m \u001b[0;34m\u001b[0m\u001b[0m\n\u001b[1;32m    827\u001b[0m \u001b[0;34m\u001b[0m\u001b[0m\n",
      "\u001b[0;32m~/.local/lib/python3.10/site-packages/scipy/integrate/quadpack.py\u001b[0m in \u001b[0;36mintegrate\u001b[0;34m(self, *args, **kwargs)\u001b[0m\n\u001b[1;32m    877\u001b[0m         \u001b[0;32melse\u001b[0m\u001b[0;34m:\u001b[0m\u001b[0;34m\u001b[0m\u001b[0;34m\u001b[0m\u001b[0m\n\u001b[1;32m    878\u001b[0m             \u001b[0mf\u001b[0m \u001b[0;34m=\u001b[0m \u001b[0mpartial\u001b[0m\u001b[0;34m(\u001b[0m\u001b[0mself\u001b[0m\u001b[0;34m.\u001b[0m\u001b[0mintegrate\u001b[0m\u001b[0;34m,\u001b[0m \u001b[0mdepth\u001b[0m\u001b[0;34m=\u001b[0m\u001b[0mdepth\u001b[0m\u001b[0;34m+\u001b[0m\u001b[0;36m1\u001b[0m\u001b[0;34m)\u001b[0m\u001b[0;34m\u001b[0m\u001b[0;34m\u001b[0m\u001b[0m\n\u001b[0;32m--> 879\u001b[0;31m         quad_r = quad(f, low, high, args=args, full_output=self.full_output,\n\u001b[0m\u001b[1;32m    880\u001b[0m                       **opt)\n\u001b[1;32m    881\u001b[0m         \u001b[0mvalue\u001b[0m \u001b[0;34m=\u001b[0m \u001b[0mquad_r\u001b[0m\u001b[0;34m[\u001b[0m\u001b[0;36m0\u001b[0m\u001b[0;34m]\u001b[0m\u001b[0;34m\u001b[0m\u001b[0;34m\u001b[0m\u001b[0m\n",
      "\u001b[0;32m~/.local/lib/python3.10/site-packages/scipy/integrate/quadpack.py\u001b[0m in \u001b[0;36mquad\u001b[0;34m(func, a, b, args, full_output, epsabs, epsrel, limit, points, weight, wvar, wopts, maxp1, limlst)\u001b[0m\n\u001b[1;32m    349\u001b[0m \u001b[0;34m\u001b[0m\u001b[0m\n\u001b[1;32m    350\u001b[0m     \u001b[0;32mif\u001b[0m \u001b[0mweight\u001b[0m \u001b[0;32mis\u001b[0m \u001b[0;32mNone\u001b[0m\u001b[0;34m:\u001b[0m\u001b[0;34m\u001b[0m\u001b[0;34m\u001b[0m\u001b[0m\n\u001b[0;32m--> 351\u001b[0;31m         retval = _quad(func, a, b, args, full_output, epsabs, epsrel, limit,\n\u001b[0m\u001b[1;32m    352\u001b[0m                        points)\n\u001b[1;32m    353\u001b[0m     \u001b[0;32melse\u001b[0m\u001b[0;34m:\u001b[0m\u001b[0;34m\u001b[0m\u001b[0;34m\u001b[0m\u001b[0m\n",
      "\u001b[0;32m~/.local/lib/python3.10/site-packages/scipy/integrate/quadpack.py\u001b[0m in \u001b[0;36m_quad\u001b[0;34m(func, a, b, args, full_output, epsabs, epsrel, limit, points)\u001b[0m\n\u001b[1;32m    461\u001b[0m     \u001b[0;32mif\u001b[0m \u001b[0mpoints\u001b[0m \u001b[0;32mis\u001b[0m \u001b[0;32mNone\u001b[0m\u001b[0;34m:\u001b[0m\u001b[0;34m\u001b[0m\u001b[0;34m\u001b[0m\u001b[0m\n\u001b[1;32m    462\u001b[0m         \u001b[0;32mif\u001b[0m \u001b[0minfbounds\u001b[0m \u001b[0;34m==\u001b[0m \u001b[0;36m0\u001b[0m\u001b[0;34m:\u001b[0m\u001b[0;34m\u001b[0m\u001b[0;34m\u001b[0m\u001b[0m\n\u001b[0;32m--> 463\u001b[0;31m             \u001b[0;32mreturn\u001b[0m \u001b[0m_quadpack\u001b[0m\u001b[0;34m.\u001b[0m\u001b[0m_qagse\u001b[0m\u001b[0;34m(\u001b[0m\u001b[0mfunc\u001b[0m\u001b[0;34m,\u001b[0m\u001b[0ma\u001b[0m\u001b[0;34m,\u001b[0m\u001b[0mb\u001b[0m\u001b[0;34m,\u001b[0m\u001b[0margs\u001b[0m\u001b[0;34m,\u001b[0m\u001b[0mfull_output\u001b[0m\u001b[0;34m,\u001b[0m\u001b[0mepsabs\u001b[0m\u001b[0;34m,\u001b[0m\u001b[0mepsrel\u001b[0m\u001b[0;34m,\u001b[0m\u001b[0mlimit\u001b[0m\u001b[0;34m)\u001b[0m\u001b[0;34m\u001b[0m\u001b[0;34m\u001b[0m\u001b[0m\n\u001b[0m\u001b[1;32m    464\u001b[0m         \u001b[0;32melse\u001b[0m\u001b[0;34m:\u001b[0m\u001b[0;34m\u001b[0m\u001b[0;34m\u001b[0m\u001b[0m\n\u001b[1;32m    465\u001b[0m             \u001b[0;32mreturn\u001b[0m \u001b[0m_quadpack\u001b[0m\u001b[0;34m.\u001b[0m\u001b[0m_qagie\u001b[0m\u001b[0;34m(\u001b[0m\u001b[0mfunc\u001b[0m\u001b[0;34m,\u001b[0m\u001b[0mbound\u001b[0m\u001b[0;34m,\u001b[0m\u001b[0minfbounds\u001b[0m\u001b[0;34m,\u001b[0m\u001b[0margs\u001b[0m\u001b[0;34m,\u001b[0m\u001b[0mfull_output\u001b[0m\u001b[0;34m,\u001b[0m\u001b[0mepsabs\u001b[0m\u001b[0;34m,\u001b[0m\u001b[0mepsrel\u001b[0m\u001b[0;34m,\u001b[0m\u001b[0mlimit\u001b[0m\u001b[0;34m)\u001b[0m\u001b[0;34m\u001b[0m\u001b[0;34m\u001b[0m\u001b[0m\n",
      "\u001b[0;32m~/.local/lib/python3.10/site-packages/scipy/integrate/quadpack.py\u001b[0m in \u001b[0;36mintegrate\u001b[0;34m(self, *args, **kwargs)\u001b[0m\n\u001b[1;32m    877\u001b[0m         \u001b[0;32melse\u001b[0m\u001b[0;34m:\u001b[0m\u001b[0;34m\u001b[0m\u001b[0;34m\u001b[0m\u001b[0m\n\u001b[1;32m    878\u001b[0m             \u001b[0mf\u001b[0m \u001b[0;34m=\u001b[0m \u001b[0mpartial\u001b[0m\u001b[0;34m(\u001b[0m\u001b[0mself\u001b[0m\u001b[0;34m.\u001b[0m\u001b[0mintegrate\u001b[0m\u001b[0;34m,\u001b[0m \u001b[0mdepth\u001b[0m\u001b[0;34m=\u001b[0m\u001b[0mdepth\u001b[0m\u001b[0;34m+\u001b[0m\u001b[0;36m1\u001b[0m\u001b[0;34m)\u001b[0m\u001b[0;34m\u001b[0m\u001b[0;34m\u001b[0m\u001b[0m\n\u001b[0;32m--> 879\u001b[0;31m         quad_r = quad(f, low, high, args=args, full_output=self.full_output,\n\u001b[0m\u001b[1;32m    880\u001b[0m                       **opt)\n\u001b[1;32m    881\u001b[0m         \u001b[0mvalue\u001b[0m \u001b[0;34m=\u001b[0m \u001b[0mquad_r\u001b[0m\u001b[0;34m[\u001b[0m\u001b[0;36m0\u001b[0m\u001b[0;34m]\u001b[0m\u001b[0;34m\u001b[0m\u001b[0;34m\u001b[0m\u001b[0m\n",
      "\u001b[0;32m~/.local/lib/python3.10/site-packages/scipy/integrate/quadpack.py\u001b[0m in \u001b[0;36mquad\u001b[0;34m(func, a, b, args, full_output, epsabs, epsrel, limit, points, weight, wvar, wopts, maxp1, limlst)\u001b[0m\n\u001b[1;32m    349\u001b[0m \u001b[0;34m\u001b[0m\u001b[0m\n\u001b[1;32m    350\u001b[0m     \u001b[0;32mif\u001b[0m \u001b[0mweight\u001b[0m \u001b[0;32mis\u001b[0m \u001b[0;32mNone\u001b[0m\u001b[0;34m:\u001b[0m\u001b[0;34m\u001b[0m\u001b[0;34m\u001b[0m\u001b[0m\n\u001b[0;32m--> 351\u001b[0;31m         retval = _quad(func, a, b, args, full_output, epsabs, epsrel, limit,\n\u001b[0m\u001b[1;32m    352\u001b[0m                        points)\n\u001b[1;32m    353\u001b[0m     \u001b[0;32melse\u001b[0m\u001b[0;34m:\u001b[0m\u001b[0;34m\u001b[0m\u001b[0;34m\u001b[0m\u001b[0m\n",
      "\u001b[0;32m~/.local/lib/python3.10/site-packages/scipy/integrate/quadpack.py\u001b[0m in \u001b[0;36m_quad\u001b[0;34m(func, a, b, args, full_output, epsabs, epsrel, limit, points)\u001b[0m\n\u001b[1;32m    461\u001b[0m     \u001b[0;32mif\u001b[0m \u001b[0mpoints\u001b[0m \u001b[0;32mis\u001b[0m \u001b[0;32mNone\u001b[0m\u001b[0;34m:\u001b[0m\u001b[0;34m\u001b[0m\u001b[0;34m\u001b[0m\u001b[0m\n\u001b[1;32m    462\u001b[0m         \u001b[0;32mif\u001b[0m \u001b[0minfbounds\u001b[0m \u001b[0;34m==\u001b[0m \u001b[0;36m0\u001b[0m\u001b[0;34m:\u001b[0m\u001b[0;34m\u001b[0m\u001b[0;34m\u001b[0m\u001b[0m\n\u001b[0;32m--> 463\u001b[0;31m             \u001b[0;32mreturn\u001b[0m \u001b[0m_quadpack\u001b[0m\u001b[0;34m.\u001b[0m\u001b[0m_qagse\u001b[0m\u001b[0;34m(\u001b[0m\u001b[0mfunc\u001b[0m\u001b[0;34m,\u001b[0m\u001b[0ma\u001b[0m\u001b[0;34m,\u001b[0m\u001b[0mb\u001b[0m\u001b[0;34m,\u001b[0m\u001b[0margs\u001b[0m\u001b[0;34m,\u001b[0m\u001b[0mfull_output\u001b[0m\u001b[0;34m,\u001b[0m\u001b[0mepsabs\u001b[0m\u001b[0;34m,\u001b[0m\u001b[0mepsrel\u001b[0m\u001b[0;34m,\u001b[0m\u001b[0mlimit\u001b[0m\u001b[0;34m)\u001b[0m\u001b[0;34m\u001b[0m\u001b[0;34m\u001b[0m\u001b[0m\n\u001b[0m\u001b[1;32m    464\u001b[0m         \u001b[0;32melse\u001b[0m\u001b[0;34m:\u001b[0m\u001b[0;34m\u001b[0m\u001b[0;34m\u001b[0m\u001b[0m\n\u001b[1;32m    465\u001b[0m             \u001b[0;32mreturn\u001b[0m \u001b[0m_quadpack\u001b[0m\u001b[0;34m.\u001b[0m\u001b[0m_qagie\u001b[0m\u001b[0;34m(\u001b[0m\u001b[0mfunc\u001b[0m\u001b[0;34m,\u001b[0m\u001b[0mbound\u001b[0m\u001b[0;34m,\u001b[0m\u001b[0minfbounds\u001b[0m\u001b[0;34m,\u001b[0m\u001b[0margs\u001b[0m\u001b[0;34m,\u001b[0m\u001b[0mfull_output\u001b[0m\u001b[0;34m,\u001b[0m\u001b[0mepsabs\u001b[0m\u001b[0;34m,\u001b[0m\u001b[0mepsrel\u001b[0m\u001b[0;34m,\u001b[0m\u001b[0mlimit\u001b[0m\u001b[0;34m)\u001b[0m\u001b[0;34m\u001b[0m\u001b[0;34m\u001b[0m\u001b[0m\n",
      "\u001b[0;32m~/.local/lib/python3.10/site-packages/scipy/integrate/quadpack.py\u001b[0m in \u001b[0;36mintegrate\u001b[0;34m(self, *args, **kwargs)\u001b[0m\n\u001b[1;32m    877\u001b[0m         \u001b[0;32melse\u001b[0m\u001b[0;34m:\u001b[0m\u001b[0;34m\u001b[0m\u001b[0;34m\u001b[0m\u001b[0m\n\u001b[1;32m    878\u001b[0m             \u001b[0mf\u001b[0m \u001b[0;34m=\u001b[0m \u001b[0mpartial\u001b[0m\u001b[0;34m(\u001b[0m\u001b[0mself\u001b[0m\u001b[0;34m.\u001b[0m\u001b[0mintegrate\u001b[0m\u001b[0;34m,\u001b[0m \u001b[0mdepth\u001b[0m\u001b[0;34m=\u001b[0m\u001b[0mdepth\u001b[0m\u001b[0;34m+\u001b[0m\u001b[0;36m1\u001b[0m\u001b[0;34m)\u001b[0m\u001b[0;34m\u001b[0m\u001b[0;34m\u001b[0m\u001b[0m\n\u001b[0;32m--> 879\u001b[0;31m         quad_r = quad(f, low, high, args=args, full_output=self.full_output,\n\u001b[0m\u001b[1;32m    880\u001b[0m                       **opt)\n\u001b[1;32m    881\u001b[0m         \u001b[0mvalue\u001b[0m \u001b[0;34m=\u001b[0m \u001b[0mquad_r\u001b[0m\u001b[0;34m[\u001b[0m\u001b[0;36m0\u001b[0m\u001b[0;34m]\u001b[0m\u001b[0;34m\u001b[0m\u001b[0;34m\u001b[0m\u001b[0m\n",
      "\u001b[0;32m~/.local/lib/python3.10/site-packages/scipy/integrate/quadpack.py\u001b[0m in \u001b[0;36mquad\u001b[0;34m(func, a, b, args, full_output, epsabs, epsrel, limit, points, weight, wvar, wopts, maxp1, limlst)\u001b[0m\n\u001b[1;32m    349\u001b[0m \u001b[0;34m\u001b[0m\u001b[0m\n\u001b[1;32m    350\u001b[0m     \u001b[0;32mif\u001b[0m \u001b[0mweight\u001b[0m \u001b[0;32mis\u001b[0m \u001b[0;32mNone\u001b[0m\u001b[0;34m:\u001b[0m\u001b[0;34m\u001b[0m\u001b[0;34m\u001b[0m\u001b[0m\n\u001b[0;32m--> 351\u001b[0;31m         retval = _quad(func, a, b, args, full_output, epsabs, epsrel, limit,\n\u001b[0m\u001b[1;32m    352\u001b[0m                        points)\n\u001b[1;32m    353\u001b[0m     \u001b[0;32melse\u001b[0m\u001b[0;34m:\u001b[0m\u001b[0;34m\u001b[0m\u001b[0;34m\u001b[0m\u001b[0m\n",
      "\u001b[0;32m~/.local/lib/python3.10/site-packages/scipy/integrate/quadpack.py\u001b[0m in \u001b[0;36m_quad\u001b[0;34m(func, a, b, args, full_output, epsabs, epsrel, limit, points)\u001b[0m\n\u001b[1;32m    461\u001b[0m     \u001b[0;32mif\u001b[0m \u001b[0mpoints\u001b[0m \u001b[0;32mis\u001b[0m \u001b[0;32mNone\u001b[0m\u001b[0;34m:\u001b[0m\u001b[0;34m\u001b[0m\u001b[0;34m\u001b[0m\u001b[0m\n\u001b[1;32m    462\u001b[0m         \u001b[0;32mif\u001b[0m \u001b[0minfbounds\u001b[0m \u001b[0;34m==\u001b[0m \u001b[0;36m0\u001b[0m\u001b[0;34m:\u001b[0m\u001b[0;34m\u001b[0m\u001b[0;34m\u001b[0m\u001b[0m\n\u001b[0;32m--> 463\u001b[0;31m             \u001b[0;32mreturn\u001b[0m \u001b[0m_quadpack\u001b[0m\u001b[0;34m.\u001b[0m\u001b[0m_qagse\u001b[0m\u001b[0;34m(\u001b[0m\u001b[0mfunc\u001b[0m\u001b[0;34m,\u001b[0m\u001b[0ma\u001b[0m\u001b[0;34m,\u001b[0m\u001b[0mb\u001b[0m\u001b[0;34m,\u001b[0m\u001b[0margs\u001b[0m\u001b[0;34m,\u001b[0m\u001b[0mfull_output\u001b[0m\u001b[0;34m,\u001b[0m\u001b[0mepsabs\u001b[0m\u001b[0;34m,\u001b[0m\u001b[0mepsrel\u001b[0m\u001b[0;34m,\u001b[0m\u001b[0mlimit\u001b[0m\u001b[0;34m)\u001b[0m\u001b[0;34m\u001b[0m\u001b[0;34m\u001b[0m\u001b[0m\n\u001b[0m\u001b[1;32m    464\u001b[0m         \u001b[0;32melse\u001b[0m\u001b[0;34m:\u001b[0m\u001b[0;34m\u001b[0m\u001b[0;34m\u001b[0m\u001b[0m\n\u001b[1;32m    465\u001b[0m             \u001b[0;32mreturn\u001b[0m \u001b[0m_quadpack\u001b[0m\u001b[0;34m.\u001b[0m\u001b[0m_qagie\u001b[0m\u001b[0;34m(\u001b[0m\u001b[0mfunc\u001b[0m\u001b[0;34m,\u001b[0m\u001b[0mbound\u001b[0m\u001b[0;34m,\u001b[0m\u001b[0minfbounds\u001b[0m\u001b[0;34m,\u001b[0m\u001b[0margs\u001b[0m\u001b[0;34m,\u001b[0m\u001b[0mfull_output\u001b[0m\u001b[0;34m,\u001b[0m\u001b[0mepsabs\u001b[0m\u001b[0;34m,\u001b[0m\u001b[0mepsrel\u001b[0m\u001b[0;34m,\u001b[0m\u001b[0mlimit\u001b[0m\u001b[0;34m)\u001b[0m\u001b[0;34m\u001b[0m\u001b[0;34m\u001b[0m\u001b[0m\n",
      "\u001b[0;31mTypeError\u001b[0m: only size-1 arrays can be converted to Python scalars"
     ]
    }
   ],
   "source": [
    "def foo(x, y, z):\n",
    "    #return np.sin((x+y)*(x**2 + y)*z)\n",
    "    #return x + y + z\n",
    "    return np.array([np.sin((x+y)*(x**2 + y)*z), x + y + z])\n",
    "\n",
    "ranges = [[0, 1], [0, 1], [0, 1]]\n",
    "\n",
    "integrate.nquad(\n",
    "    foo, \n",
    "    ranges,\n",
    "    opts={'epsrel':1e-4}    \n",
    ")[0]  "
   ]
  },
  {
   "cell_type": "code",
   "execution_count": 104,
   "id": "f51d850f-0005-49e0-8a69-c32f570a3e3b",
   "metadata": {},
   "outputs": [
    {
     "ename": "ValueError",
     "evalue": "If given, shape of x must be 1-D or the same as y.",
     "output_type": "error",
     "traceback": [
      "\u001b[0;31m---------------------------------------------------------------------------\u001b[0m",
      "\u001b[0;31mValueError\u001b[0m                                Traceback (most recent call last)",
      "\u001b[0;32m/tmp/ipykernel_26984/1378860686.py\u001b[0m in \u001b[0;36m<module>\u001b[0;34m\u001b[0m\n\u001b[1;32m     11\u001b[0m integrate.simpson(\n\u001b[1;32m     12\u001b[0m     integrate.simpson(\n\u001b[0;32m---> 13\u001b[0;31m         integrate.simpson(\n\u001b[0m\u001b[1;32m     14\u001b[0m             \u001b[0mF\u001b[0m\u001b[0;34m,\u001b[0m\u001b[0;34m\u001b[0m\u001b[0;34m\u001b[0m\u001b[0m\n\u001b[1;32m     15\u001b[0m             Z), \n",
      "\u001b[0;32m~/.local/lib/python3.10/site-packages/scipy/integrate/_quadrature.py\u001b[0m in \u001b[0;36msimpson\u001b[0;34m(y, x, dx, axis, even)\u001b[0m\n\u001b[1;32m    516\u001b[0m             \u001b[0mx\u001b[0m \u001b[0;34m=\u001b[0m \u001b[0mx\u001b[0m\u001b[0;34m.\u001b[0m\u001b[0mreshape\u001b[0m\u001b[0;34m(\u001b[0m\u001b[0mtuple\u001b[0m\u001b[0;34m(\u001b[0m\u001b[0mshapex\u001b[0m\u001b[0;34m)\u001b[0m\u001b[0;34m)\u001b[0m\u001b[0;34m\u001b[0m\u001b[0;34m\u001b[0m\u001b[0m\n\u001b[1;32m    517\u001b[0m         \u001b[0;32melif\u001b[0m \u001b[0mlen\u001b[0m\u001b[0;34m(\u001b[0m\u001b[0mx\u001b[0m\u001b[0;34m.\u001b[0m\u001b[0mshape\u001b[0m\u001b[0;34m)\u001b[0m \u001b[0;34m!=\u001b[0m \u001b[0mlen\u001b[0m\u001b[0;34m(\u001b[0m\u001b[0my\u001b[0m\u001b[0;34m.\u001b[0m\u001b[0mshape\u001b[0m\u001b[0;34m)\u001b[0m\u001b[0;34m:\u001b[0m\u001b[0;34m\u001b[0m\u001b[0;34m\u001b[0m\u001b[0m\n\u001b[0;32m--> 518\u001b[0;31m             raise ValueError(\"If given, shape of x must be 1-D or the \"\n\u001b[0m\u001b[1;32m    519\u001b[0m                              \"same as y.\")\n\u001b[1;32m    520\u001b[0m         \u001b[0;32mif\u001b[0m \u001b[0mx\u001b[0m\u001b[0;34m.\u001b[0m\u001b[0mshape\u001b[0m\u001b[0;34m[\u001b[0m\u001b[0maxis\u001b[0m\u001b[0;34m]\u001b[0m \u001b[0;34m!=\u001b[0m \u001b[0mN\u001b[0m\u001b[0;34m:\u001b[0m\u001b[0;34m\u001b[0m\u001b[0;34m\u001b[0m\u001b[0m\n",
      "\u001b[0;31mValueError\u001b[0m: If given, shape of x must be 1-D or the same as y."
     ]
    }
   ],
   "source": [
    "xx_first = np.linspace(0, stop=0.5, num=90, endpoint=False)\n",
    "xx = np.append(xx_first, np.linspace(0.5, stop=1, num=30))\n",
    "#xx = np.linspace(0, stop=1, num=30)\n",
    "yy = np.linspace(0, stop=1, num=30)\n",
    "zz = np.linspace(0, stop=1, num=30)\n",
    "\n",
    "X, Y, Z = np.meshgrid(xx, yy, zz, indexing='ij')\n",
    "\n",
    "F = foo(X, Y, Z)\n",
    "\n",
    "integrate.simpson(\n",
    "    integrate.simpson(\n",
    "        integrate.simpson(\n",
    "            F, \n",
    "            Z), \n",
    "        Y[:,:,0]\n",
    "    ), \n",
    "    X[:,0,0]\n",
    ")"
   ]
  },
  {
   "cell_type": "code",
   "execution_count": 105,
   "id": "46a43ede-f463-4dc4-9d98-651619054abf",
   "metadata": {},
   "outputs": [
    {
     "data": {
      "text/plain": [
       "array([0.38378993, 1.5       ])"
      ]
     },
     "execution_count": 105,
     "metadata": {},
     "output_type": "execute_result"
    }
   ],
   "source": [
    "np.trapz(np.trapz(np.trapz(F, Z), Y[:, :, 0]), X[:, 0, 0])"
   ]
  },
  {
   "cell_type": "code",
   "execution_count": 53,
   "id": "1fd2da6c-f7a8-497c-93fe-79cae500a155",
   "metadata": {},
   "outputs": [
    {
     "data": {
      "text/plain": [
       "(30, 30, 30)"
      ]
     },
     "execution_count": 53,
     "metadata": {},
     "output_type": "execute_result"
    }
   ],
   "source": [
    "np.shape(X)\n",
    "#X[:,0]"
   ]
  },
  {
   "cell_type": "code",
   "execution_count": 54,
   "id": "322d5ccc-9b9d-4aad-94c3-0957f14aab0b",
   "metadata": {},
   "outputs": [
    {
     "data": {
      "text/plain": [
       "0.5000102505227766"
      ]
     },
     "execution_count": 54,
     "metadata": {},
     "output_type": "execute_result"
    }
   ],
   "source": [
    "integrate.simpson(integrate.simpson(integrate.simpson(F, Z), Y[:,:,0]), X[:,0,0])"
   ]
  },
  {
   "cell_type": "code",
   "execution_count": 55,
   "id": "874bc88f-77ac-4924-9535-5a31b4664532",
   "metadata": {},
   "outputs": [
    {
     "data": {
      "text/plain": [
       "[[0, 1], [0, 1], [0, 1]]"
      ]
     },
     "execution_count": 55,
     "metadata": {},
     "output_type": "execute_result"
    }
   ],
   "source": [
    "ranges"
   ]
  },
  {
   "cell_type": "code",
   "execution_count": 64,
   "id": "97715e6f-3b0a-4d59-852c-9bcd54164863",
   "metadata": {},
   "outputs": [
    {
     "data": {
      "text/plain": [
       "(0.9999997149937558+6.513994098592001e-19j)"
      ]
     },
     "execution_count": 64,
     "metadata": {},
     "output_type": "execute_result"
    }
   ],
   "source": [
    "def foo(z):\n",
    "    return 1/z\n",
    "\n",
    "pp = np.linspace(0, 2*np.pi, num=300)\n",
    "\n",
    "z_re = np.cos(pp)\n",
    "z_im = np.sin(pp)\n",
    "\n",
    "z = z_re + 1j * z_im\n",
    "\n",
    "f = foo(z)\n",
    "\n",
    "integrate.simpson(f, z) / (2*np.pi * 1j)"
   ]
  },
  {
   "cell_type": "code",
   "execution_count": 66,
   "id": "80d913cd-da48-4896-8216-7b7d4a0ed2bc",
   "metadata": {},
   "outputs": [
    {
     "data": {
      "text/plain": [
       "(0.9999264036085473-1.218738751837311e-18j)"
      ]
     },
     "execution_count": 66,
     "metadata": {},
     "output_type": "execute_result"
    }
   ],
   "source": [
    "np.trapz(f, z) / (2*np.pi * 1j)"
   ]
  },
  {
   "cell_type": "code",
   "execution_count": 107,
   "id": "b77f9bcf-dc10-4504-8f18-7b739cdbe787",
   "metadata": {},
   "outputs": [],
   "source": [
    "g = None\n",
    "if g is not None:\n",
    "    print('yes')"
   ]
  },
  {
   "cell_type": "code",
   "execution_count": null,
   "id": "bcf7ad32-c310-4780-a750-7ebcf86523de",
   "metadata": {},
   "outputs": [],
   "source": []
  }
 ],
 "metadata": {
  "kernelspec": {
   "display_name": "Python 3 (ipykernel)",
   "language": "python",
   "name": "python3"
  },
  "language_info": {
   "codemirror_mode": {
    "name": "ipython",
    "version": 3
   },
   "file_extension": ".py",
   "mimetype": "text/x-python",
   "name": "python",
   "nbconvert_exporter": "python",
   "pygments_lexer": "ipython3",
   "version": "3.10.1"
  }
 },
 "nbformat": 4,
 "nbformat_minor": 5
}
