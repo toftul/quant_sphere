{
 "cells": [
  {
   "cell_type": "code",
   "execution_count": 1,
   "metadata": {},
   "outputs": [],
   "source": [
    "from src.dispersion import * \n",
    "from src.VSH import * \n",
    "from src.extra_special import * \n",
    "from src.fields import (\n",
    "    E_,\n",
    "    H_,\n",
    "    E_cart_,\n",
    "    H_cart_\n",
    ")\n",
    "from src.AM import *\n",
    "from src.misc import *\n",
    "\n",
    "import numpy as np\n",
    "import scipy.constants as const\n",
    "import scipy.special as sp\n",
    "from scipy import integrate\n",
    "from cxroots import Rectangle, AnnulusSector, Circle\n",
    "import cxroots\n",
    "from icecream import ic\n",
    "\n",
    "import matplotlib.pyplot as plt\n",
    "import matplotlib.patheffects as pe  # for text effects \n",
    "plt.rcParams.update({'font.size': 18})\n",
    "\n",
    "Z_0 = np.sqrt(const.mu_0 / const.epsilon_0)  # vacuum impedance"
   ]
  },
  {
   "cell_type": "code",
   "execution_count": 31,
   "metadata": {},
   "outputs": [],
   "source": [
    "def zj(j, rho, superscript=1):\n",
    "    if superscript == 1:\n",
    "        return sp.spherical_jn(j, rho)\n",
    "    elif superscript == 3:\n",
    "        return spherical_h1(j, rho)"
   ]
  },
  {
   "cell_type": "code",
   "execution_count": 56,
   "metadata": {},
   "outputs": [
    {
     "name": "stderr",
     "output_type": "stream",
     "text": [
      "ic| int_val: 6.1915892080750305\n",
      "    n*(n+1) * np.abs(zj(n, rho, superscript))**2: 6.19158920807503\n"
     ]
    }
   ],
   "source": [
    "ranges = [[0, np.pi], [0, 2*np.pi]]\n",
    "\n",
    "m, n = 0, 2\n",
    "\n",
    "rho = 1 + 1j\n",
    "superscript = 3\n",
    "\n",
    "\n",
    "int_val = integrate.nquad(\n",
    "    lambda theta, phi: (\n",
    "        np.sin(theta) * np.dot(\n",
    "            np.conj(Mmn(m, n, rho, theta, phi, superscript)), Mmn(m, n, rho, theta, phi, superscript)\n",
    "        )\n",
    "    ),\n",
    "    ranges,\n",
    "    opts={'epsrel':1e-4}    \n",
    ")[0]  # gives 1.5\n",
    "\n",
    "ic(\n",
    "    int_val,\n",
    "    n*(n+1) * np.abs(zj(n, rho, superscript))**2 \n",
    ");"
   ]
  },
  {
   "cell_type": "code",
   "execution_count": 82,
   "metadata": {},
   "outputs": [
    {
     "name": "stderr",
     "output_type": "stream",
     "text": [
      "ic| int_val: 33.5969840634891, analytic_val: 33.59698406348907\n"
     ]
    }
   ],
   "source": [
    "ranges = [[0, np.pi], [0, 2*np.pi]]\n",
    "\n",
    "m, n = 0, 2\n",
    "\n",
    "rho = 1+1j\n",
    "superscript = 3\n",
    "\n",
    "\n",
    "int_val = integrate.nquad(\n",
    "    lambda theta, phi: (\n",
    "        np.sin(theta) * np.dot(\n",
    "            np.conj(Nmn(m, n, rho, theta, phi, superscript)), Nmn(m, n, rho, theta, phi, superscript)\n",
    "        )\n",
    "    ),\n",
    "    ranges,\n",
    "    opts={'epsrel':1e-4}    \n",
    ")[0]  # gives 1.5\n",
    "\n",
    "analytic_val = n*(n+1) / (2*n+1) * ( (n+1) * np.abs(zj(n-1, rho, superscript))**2  + n * np.abs(zj(n+1, rho, superscript))**2)\n",
    "\n",
    "ic(\n",
    "    int_val,\n",
    "    analytic_val\n",
    ");"
   ]
  },
  {
   "cell_type": "code",
   "execution_count": 78,
   "metadata": {},
   "outputs": [
    {
     "name": "stderr",
     "output_type": "stream",
     "text": [
      "ic| int_val: 3.000600973166676e-16, analytic_val: 0.7105102369922164\n"
     ]
    }
   ],
   "source": [
    "ranges = [[0, np.pi], [0, 2*np.pi]]\n",
    "\n",
    "m, n = 0, 1\n",
    "\n",
    "rho = 1 + 1j\n",
    "superscript = 3\n",
    "\n",
    "\n",
    "int_val = integrate.nquad(\n",
    "    lambda theta, phi: (\n",
    "        np.sin(theta) * np.dot(\n",
    "            np.conj(Lmn(m, n, rho, theta, phi, superscript)), Lmn(m, n, rho, theta, phi, superscript)\n",
    "        )\n",
    "    ),\n",
    "    ranges,\n",
    "    opts={'epsrel':1e-4}    \n",
    ")[0]  # gives 1.5\n",
    "\n",
    "analytic_val = 1 / (2*n+1) * ( n * np.abs(zj(n-1, rho, superscript))**2  + (n+1) * np.abs(zj(n+1, rho, superscript))**2)\n",
    "\n",
    "ic(\n",
    "    int_val,\n",
    "    analytic_val\n",
    ");"
   ]
  },
  {
   "cell_type": "code",
   "execution_count": 76,
   "metadata": {},
   "outputs": [
    {
     "name": "stderr",
     "output_type": "stream",
     "text": [
      "ic| int_val: -0.6428425953739106, analytic_val: -0.6428425953739101\n"
     ]
    }
   ],
   "source": [
    "ranges = [[0, np.pi], [0, 2*np.pi]]\n",
    "\n",
    "m, n = 0, 1\n",
    "\n",
    "rho = 1 + 1j\n",
    "superscript = 3\n",
    "\n",
    "\n",
    "int_val = integrate.nquad(\n",
    "    lambda theta, phi: (\n",
    "        np.sin(theta) * np.dot(\n",
    "            np.conj(Lmn(m, n, rho, theta, phi, superscript)), Nmn(m, n, rho, theta, phi, superscript)\n",
    "        )\n",
    "    ),\n",
    "    ranges,\n",
    "    opts={'epsrel':1e-4}    \n",
    ")[0]  # gives 1.5\n",
    "\n",
    "analytic_val = n*(n+1) / (2*n+1) * ( np.abs(zj(n-1, rho, superscript))**2  - np.abs(zj(n+1, rho, superscript))**2)\n",
    "\n",
    "ic(\n",
    "    int_val,\n",
    "    analytic_val\n",
    ");"
   ]
  },
  {
   "cell_type": "code",
   "execution_count": null,
   "metadata": {},
   "outputs": [],
   "source": []
  }
 ],
 "metadata": {
  "kernelspec": {
   "display_name": "Python 3 (ipykernel)",
   "language": "python",
   "name": "python3"
  },
  "language_info": {
   "codemirror_mode": {
    "name": "ipython",
    "version": 3
   },
   "file_extension": ".py",
   "mimetype": "text/x-python",
   "name": "python",
   "nbconvert_exporter": "python",
   "pygments_lexer": "ipython3",
   "version": "3.10.0"
  }
 },
 "nbformat": 4,
 "nbformat_minor": 4
}
