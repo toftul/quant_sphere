{
 "cells": [
  {
   "cell_type": "code",
   "execution_count": 3,
   "id": "eaa74bf0-ef4e-43ee-ab74-e22be0caac73",
   "metadata": {},
   "outputs": [],
   "source": [
    "from src.extra_special import * \n",
    "from src.misc import *\n",
    "\n",
    "import numpy as np\n",
    "import scipy.constants as const\n",
    "import scipy.special as sp\n",
    "from scipy import integrate\n",
    "#from icecream import ic\n",
    "\n",
    "import matplotlib.pyplot as plt\n",
    "import matplotlib.patheffects as pe  # for text effects \n",
    "plt.rcParams.update({'font.size': 18})\n",
    "\n",
    "Z_0 = np.sqrt(const.mu_0 / const.epsilon_0)  # vacuum impedance"
   ]
  },
  {
   "cell_type": "markdown",
   "id": "a06f72ee-2616-4bfe-82d1-8151e09dc8a3",
   "metadata": {},
   "source": [
    "$$\n",
    "\\frac{\\int_0^{\\infty} d r \\cdot 2 r^2 |z_j|^2}{\\int_0^{\\infty} d r \\cdot r^2 \\left( |z_j|^2 + \\frac{j+1}{2j+1} |z_{j-1}|^2 + \\frac{j}{2j+1} |z_{j+1}|^2\\right)} = 1\n",
    "$$\n",
    "where\n",
    "$$\n",
    "z_j = \\begin{cases}\n",
    "j_j(n_{\\text{in}}k_0 r), & r \\leq a \\\\\n",
    "h^{(1)}_j(n_{\\text{out}}k_0 r) , & r> a\n",
    "\\end{cases}\n",
    "$$"
   ]
  },
  {
   "cell_type": "code",
   "execution_count": 4,
   "id": "796cf27e-44f1-4606-b1b0-ca75040ae991",
   "metadata": {},
   "outputs": [
    {
     "data": {
      "image/png": "[encoded data removed]",
      "text/plain": [
       "<Figure size 432x288 with 1 Axes>"
      ]
     },
     "metadata": {
      "needs_background": "light"
     },
     "output_type": "display_data"
    }
   ],
   "source": [
    "rr = np.linspace(1e-6, stop=10, num=300)\n",
    "\n",
    "a = 1.4\n",
    "n_in = 3\n",
    "n_out = 2\n",
    "\n",
    "j = 3\n",
    "\n",
    "k0 = 1\n",
    "\n",
    "def num(r, j, k0, a, n_in, n_out):\n",
    "    zj = np.where(\n",
    "        r <= a,\n",
    "        sp.spherical_jn(j, n_in*r*k0),\n",
    "        spherical_h1(j, n_out*r*k0)\n",
    "    )\n",
    "    return 2 * r**2 * np.abs(zj)**2\n",
    "\n",
    "def den(r, j, k0, a, n_in, n_out):\n",
    "    zj = np.where(\n",
    "        r <= a,\n",
    "        sp.spherical_jn(j, n_in*r*k0),\n",
    "        spherical_h1(j, n_out*r*k0)\n",
    "    )\n",
    "    zjm1 = np.where(\n",
    "        r <= a,\n",
    "        sp.spherical_jn(j-1, n_in*r*k0),\n",
    "        spherical_h1(j-1, n_out*r*k0)\n",
    "    )\n",
    "    zjp1 = np.where(\n",
    "        r <= a,\n",
    "        sp.spherical_jn(j+1, n_in*r*k0),\n",
    "        spherical_h1(j+1, n_out*r*k0)\n",
    "    )\n",
    "    \n",
    "    return r**2 * (np.abs(zj)**2 + (j+1)/(2*j+1) * np.abs(zjm1)**2 + j/(2*j+1) * np.abs(zjp1)**2)\n",
    "\n",
    "\n",
    "prms = (j, k0, a, n_in, n_out)\n",
    "plt.plot(rr, num(rr, *prms)/den(rr, *prms))\n",
    "plt.plot(rr, rr/rr)\n",
    "#plt.legend()\n",
    "plt.grid()\n",
    "plt.show()"
   ]
  },
  {
   "cell_type": "code",
   "execution_count": 44,
   "id": "7628ad32-af22-41cf-91d9-0a1e34cd2303",
   "metadata": {},
   "outputs": [],
   "source": [
    "def get_int_val(j, k0, a, n_in, n_out, rmin=0, rmax=100):\n",
    "    ranges = [[rmin, rmax]]\n",
    "    \n",
    "    prms = (j, k0, a, n_in, n_out)\n",
    "    \n",
    "    int_num = integrate.nquad(\n",
    "        lambda r: num(r, *prms), \n",
    "        ranges,\n",
    "        opts={'epsrel':1e-4}    \n",
    "    )[0] \n",
    "    int_den = integrate.nquad(\n",
    "        lambda r: den(r, *prms), \n",
    "        ranges,\n",
    "        opts={'epsrel':1e-4}    \n",
    "    )[0] \n",
    "    \n",
    "    return int_num / int_den "
   ]
  },
  {
   "cell_type": "code",
   "execution_count": 53,
   "id": "3d3aa48b-ffcb-400e-949b-9f3a007973d6",
   "metadata": {},
   "outputs": [],
   "source": [
    "rrmax = 10**np.linspace(1, stop=5, num=30)\n",
    "\n",
    "j = 1\n",
    "k0 = 1\n",
    "a = 1\n",
    "n_in = 3+1j\n",
    "n_out = 1.4\n",
    "\n",
    "int_vals = []\n",
    "for rmax in rrmax:\n",
    "    int_vals.append(get_int_val(j, k0, a, n_in, n_out, rmax=rmax))"
   ]
  },
  {
   "cell_type": "code",
   "execution_count": 54,
   "id": "e3c25ee6-90a0-4843-ac15-6a8d592b3faf",
   "metadata": {},
   "outputs": [
    {
     "data": {
      "image/png": "[encoded data removed]",
      "text/plain": [
       "<Figure size 432x288 with 1 Axes>"
      ]
     },
     "metadata": {
      "needs_background": "light"
     },
     "output_type": "display_data"
    }
   ],
   "source": [
    "plt.plot(rrmax, int_vals)\n",
    "plt.xscale('log')\n",
    "plt.grid()\n",
    "plt.show()"
   ]
  },
  {
   "cell_type": "code",
   "execution_count": null,
   "id": "bb92b491-6118-44eb-8772-7c005ecfd904",
   "metadata": {},
   "outputs": [],
   "source": []
  }
 ],
 "metadata": {
  "kernelspec": {
   "display_name": "Python 3 (ipykernel)",
   "language": "python",
   "name": "python3"
  },
  "language_info": {
   "codemirror_mode": {
    "name": "ipython",
    "version": 3
   },
   "file_extension": ".py",
   "mimetype": "text/x-python",
   "name": "python",
   "nbconvert_exporter": "python",
   "pygments_lexer": "ipython3",
   "version": "3.9.7"
  }
 },
 "nbformat": 4,
 "nbformat_minor": 5
}
