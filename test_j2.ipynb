{
 "cells": [
  {
   "cell_type": "code",
   "execution_count": 1,
   "metadata": {},
   "outputs": [],
   "source": [
    "from src.dispersion import * \n",
    "from src.VSH import * \n",
    "from src.extra_special import * \n",
    "from src.fields import (\n",
    "    E_,\n",
    "    H_,\n",
    "    E_cart_,\n",
    "    H_cart_\n",
    ")\n",
    "from src.AM import *\n",
    "from src.AM_v2 import *\n",
    "from src.misc import *\n",
    "\n",
    "import numpy as np\n",
    "import scipy.constants as const\n",
    "import scipy.special as sp\n",
    "from scipy import integrate\n",
    "from scipy.misc import derivative\n",
    "from cxroots import Rectangle, AnnulusSector, Circle\n",
    "import cxroots\n",
    "from icecream import ic\n",
    "\n",
    "import matplotlib.pyplot as plt\n",
    "import matplotlib.patheffects as pe  # for text effects \n",
    "plt.rcParams.update({'font.size': 18})\n",
    "\n",
    "Z_0 = np.sqrt(const.mu_0 / const.epsilon_0)  # vacuum impedance"
   ]
  },
  {
   "cell_type": "markdown",
   "metadata": {},
   "source": [
    "Let us calculate \n",
    "$$\n",
    "[\\mathbf{j}^2] = \\frac{\\langle \\psi | \\hat{\\mathbf{J}}^2 | \\psi \\rangle}{\\langle \\psi |\\psi \\rangle}\n",
    "$$\n",
    "for $\\psi$ being just a VSH."
   ]
  },
  {
   "cell_type": "code",
   "execution_count": 11,
   "metadata": {},
   "outputs": [
    {
     "name": "stderr",
     "output_type": "stream",
     "text": [
      "ic| np.real(j2): 6.000322016047297\n",
      "    np.imag(j2): -4.911560551657104e-06\n",
      "    n*(n+1): 6\n",
      "    helicity_(x, y, z, E_cart, H_cart): 0.06860443070610472\n"
     ]
    }
   ],
   "source": [
    "m, n = 1, 2\n",
    "\n",
    "r, theta, phi = 1, np.pi/1.01, 1.7\n",
    "x, y, z = sph2cart(r, theta, phi)\n",
    "\n",
    "\n",
    "E_cart = fieldTrasformSph2cart(lambda r, theta, phi: Mmn(m, n, r, theta, phi, superscript=1))\n",
    "#E_cart = fieldTrasformSph2cart(lambda r, theta, phi:  Xmn_Jackson(m, n, r, theta, phi))\n",
    "H_cart = fieldTrasformSph2cart(lambda r, theta, phi: -1j * Nmn(m, n, r, theta, phi, superscript=1))\n",
    "\n",
    "j2 = j2_canonical(x, y, z, E_cart, H_cart, part=\"both\", dh=1e-4)\n",
    "ic(\n",
    "    np.real(j2),\n",
    "    np.imag(j2),\n",
    "    n*(n+1),\n",
    "    helicity_(x, y, z, E_cart, H_cart)\n",
    ");"
   ]
  },
  {
   "cell_type": "code",
   "execution_count": 28,
   "metadata": {},
   "outputs": [
    {
     "name": "stderr",
     "output_type": "stream",
     "text": [
      "/home/ivan/Documents/code/quant_sphere/src/AM_v2.py:101: RuntimeWarning: invalid value encountered in double_scalars\n",
      "  return 2*np.imag(np.dot(np.conj(H), E))/w\n"
     ]
    },
    {
     "data": {
      "image/png": "[encoded data removed]",
      "text/plain": [
       "<Figure size 432x288 with 1 Axes>"
      ]
     },
     "metadata": {
      "needs_background": "light"
     },
     "output_type": "display_data"
    }
   ],
   "source": [
    "m, n = 2, 2\n",
    "\n",
    "E_cart = fieldTrasformSph2cart(lambda r, theta, phi: Mmn(m, n, r, theta, phi, superscript=1))\n",
    "H_cart = fieldTrasformSph2cart(lambda r, theta, phi: -1j * Nmn(m, n, r, theta, phi, superscript=1))\n",
    "\n",
    "tt = np.linspace(0, stop=2*np.pi, num=1000)\n",
    "\n",
    "hh = np.array([])\n",
    "\n",
    "for theta in tt:\n",
    "    r, phi = 1.2, 2.7\n",
    "    x, y, z = sph2cart(r, theta, phi)\n",
    "\n",
    "    hh = np.append(hh, helicity_(x, y, z, E_cart, H_cart))\n",
    "    \n",
    "plt.plot(tt, hh)\n",
    "plt.show()"
   ]
  },
  {
   "cell_type": "code",
   "execution_count": 3,
   "metadata": {},
   "outputs": [
    {
     "ename": "TypeError",
     "evalue": "'numpy.float64' object does not support item assignment",
     "output_type": "error",
     "traceback": [
      "\u001b[0;31m--------------------------------------------------------------------------\u001b[0m",
      "\u001b[0;31mTypeError\u001b[0m                                Traceback (most recent call last)",
      "\u001b[0;32m<ipython-input-3-1f34b1896488>\u001b[0m in \u001b[0;36m<module>\u001b[0;34m\u001b[0m\n\u001b[1;32m     11\u001b[0m     \u001b[0mx2\u001b[0m\u001b[0;34m,\u001b[0m \u001b[0my2\u001b[0m\u001b[0;34m,\u001b[0m \u001b[0mz2\u001b[0m \u001b[0;34m=\u001b[0m \u001b[0msph2cart\u001b[0m\u001b[0;34m(\u001b[0m\u001b[0mr\u001b[0m\u001b[0;34m,\u001b[0m \u001b[0;36m1.4\u001b[0m\u001b[0;34m*\u001b[0m\u001b[0mtheta\u001b[0m\u001b[0;34m,\u001b[0m \u001b[0mphi\u001b[0m\u001b[0;34m)\u001b[0m\u001b[0;34m\u001b[0m\u001b[0;34m\u001b[0m\u001b[0m\n\u001b[1;32m     12\u001b[0m \u001b[0;34m\u001b[0m\u001b[0m\n\u001b[0;32m---> 13\u001b[0;31m     \u001b[0mjj22\u001b[0m\u001b[0;34m.\u001b[0m\u001b[0mappend\u001b[0m\u001b[0;34m(\u001b[0m\u001b[0mj2_canonical\u001b[0m\u001b[0;34m(\u001b[0m\u001b[0mx\u001b[0m\u001b[0;34m,\u001b[0m \u001b[0my\u001b[0m\u001b[0;34m,\u001b[0m \u001b[0mz\u001b[0m\u001b[0;34m,\u001b[0m \u001b[0mE_cart\u001b[0m\u001b[0;34m,\u001b[0m \u001b[0mH_cart\u001b[0m\u001b[0;34m,\u001b[0m \u001b[0mpart\u001b[0m\u001b[0;34m=\u001b[0m\u001b[0;34m\"both\"\u001b[0m\u001b[0;34m,\u001b[0m \u001b[0mdh\u001b[0m\u001b[0;34m=\u001b[0m\u001b[0;36m1e-4\u001b[0m\u001b[0;34m)\u001b[0m\u001b[0;34m)\u001b[0m\u001b[0;34m\u001b[0m\u001b[0;34m\u001b[0m\u001b[0m\n\u001b[0m\u001b[1;32m     14\u001b[0m     \u001b[0mhh\u001b[0m\u001b[0;34m.\u001b[0m\u001b[0mappend\u001b[0m\u001b[0;34m(\u001b[0m\u001b[0mhelicity_\u001b[0m\u001b[0;34m(\u001b[0m\u001b[0mx\u001b[0m\u001b[0;34m,\u001b[0m \u001b[0my\u001b[0m\u001b[0;34m,\u001b[0m \u001b[0mz\u001b[0m\u001b[0;34m,\u001b[0m \u001b[0mE_cart\u001b[0m\u001b[0;34m,\u001b[0m \u001b[0mH_cart\u001b[0m\u001b[0;34m)\u001b[0m\u001b[0;34m)\u001b[0m\u001b[0;34m\u001b[0m\u001b[0;34m\u001b[0m\u001b[0m\n\u001b[1;32m     15\u001b[0m     \u001b[0mhh2\u001b[0m\u001b[0;34m.\u001b[0m\u001b[0mappend\u001b[0m\u001b[0;34m(\u001b[0m\u001b[0mhelicity_\u001b[0m\u001b[0;34m(\u001b[0m\u001b[0mx2\u001b[0m\u001b[0;34m,\u001b[0m \u001b[0my2\u001b[0m\u001b[0;34m,\u001b[0m \u001b[0mz2\u001b[0m\u001b[0;34m,\u001b[0m \u001b[0mE_cart\u001b[0m\u001b[0;34m,\u001b[0m \u001b[0mH_cart\u001b[0m\u001b[0;34m)\u001b[0m\u001b[0;34m)\u001b[0m\u001b[0;34m\u001b[0m\u001b[0;34m\u001b[0m\u001b[0m\n",
      "\u001b[0;32m~/Documents/code/quant_sphere/src/AM_v2.py\u001b[0m in \u001b[0;36mj2_canonical\u001b[0;34m(x, y, z, fE, fH, part, dh)\u001b[0m\n\u001b[1;32m     47\u001b[0m     \u001b[0mfactor_el\u001b[0m\u001b[0;34m,\u001b[0m \u001b[0mfactor_mag\u001b[0m \u001b[0;34m=\u001b[0m \u001b[0mwhichPart\u001b[0m\u001b[0;34m(\u001b[0m\u001b[0mpart\u001b[0m\u001b[0;34m)\u001b[0m\u001b[0;34m\u001b[0m\u001b[0;34m\u001b[0m\u001b[0m\n\u001b[1;32m     48\u001b[0m \u001b[0;34m\u001b[0m\u001b[0m\n\u001b[0;32m---> 49\u001b[0;31m     \u001b[0mE\u001b[0m\u001b[0;34m,\u001b[0m \u001b[0mH\u001b[0m \u001b[0;34m=\u001b[0m \u001b[0mfE\u001b[0m\u001b[0;34m(\u001b[0m\u001b[0mx\u001b[0m\u001b[0;34m,\u001b[0m \u001b[0my\u001b[0m\u001b[0;34m,\u001b[0m \u001b[0mz\u001b[0m\u001b[0;34m)\u001b[0m\u001b[0;34m,\u001b[0m \u001b[0mfH\u001b[0m\u001b[0;34m(\u001b[0m\u001b[0mx\u001b[0m\u001b[0;34m,\u001b[0m \u001b[0my\u001b[0m\u001b[0;34m,\u001b[0m \u001b[0mz\u001b[0m\u001b[0;34m)\u001b[0m\u001b[0;34m\u001b[0m\u001b[0;34m\u001b[0m\u001b[0m\n\u001b[0m\u001b[1;32m     50\u001b[0m     \u001b[0mdx_E\u001b[0m\u001b[0;34m,\u001b[0m \u001b[0mdx_H\u001b[0m \u001b[0;34m=\u001b[0m \u001b[0mD\u001b[0m\u001b[0;34m(\u001b[0m\u001b[0mfE\u001b[0m\u001b[0;34m,\u001b[0m \u001b[0mx\u001b[0m\u001b[0;34m,\u001b[0m \u001b[0my\u001b[0m\u001b[0;34m,\u001b[0m \u001b[0mz\u001b[0m\u001b[0;34m,\u001b[0m \u001b[0;34m'x'\u001b[0m\u001b[0;34m)\u001b[0m\u001b[0;34m,\u001b[0m \u001b[0mD\u001b[0m\u001b[0;34m(\u001b[0m\u001b[0mfH\u001b[0m\u001b[0;34m,\u001b[0m \u001b[0mx\u001b[0m\u001b[0;34m,\u001b[0m \u001b[0my\u001b[0m\u001b[0;34m,\u001b[0m \u001b[0mz\u001b[0m\u001b[0;34m,\u001b[0m \u001b[0;34m'x'\u001b[0m\u001b[0;34m)\u001b[0m\u001b[0;34m\u001b[0m\u001b[0;34m\u001b[0m\u001b[0m\n\u001b[1;32m     51\u001b[0m     \u001b[0mdy_E\u001b[0m\u001b[0;34m,\u001b[0m \u001b[0mdy_H\u001b[0m \u001b[0;34m=\u001b[0m \u001b[0mD\u001b[0m\u001b[0;34m(\u001b[0m\u001b[0mfE\u001b[0m\u001b[0;34m,\u001b[0m \u001b[0mx\u001b[0m\u001b[0;34m,\u001b[0m \u001b[0my\u001b[0m\u001b[0;34m,\u001b[0m \u001b[0mz\u001b[0m\u001b[0;34m,\u001b[0m \u001b[0;34m'y'\u001b[0m\u001b[0;34m)\u001b[0m\u001b[0;34m,\u001b[0m \u001b[0mD\u001b[0m\u001b[0;34m(\u001b[0m\u001b[0mfH\u001b[0m\u001b[0;34m,\u001b[0m \u001b[0mx\u001b[0m\u001b[0;34m,\u001b[0m \u001b[0my\u001b[0m\u001b[0;34m,\u001b[0m \u001b[0mz\u001b[0m\u001b[0;34m,\u001b[0m \u001b[0;34m'y'\u001b[0m\u001b[0;34m)\u001b[0m\u001b[0;34m\u001b[0m\u001b[0;34m\u001b[0m\u001b[0m\n",
      "\u001b[0;32m~/Documents/code/quant_sphere/src/misc.py\u001b[0m in \u001b[0;36mAcart\u001b[0;34m(x, y, z)\u001b[0m\n\u001b[1;32m    118\u001b[0m         \u001b[0mr\u001b[0m\u001b[0;34m,\u001b[0m \u001b[0mtheta\u001b[0m\u001b[0;34m,\u001b[0m \u001b[0mphi\u001b[0m \u001b[0;34m=\u001b[0m \u001b[0mcart2sph\u001b[0m\u001b[0;34m(\u001b[0m\u001b[0mx\u001b[0m\u001b[0;34m,\u001b[0m \u001b[0my\u001b[0m\u001b[0;34m,\u001b[0m \u001b[0mz\u001b[0m\u001b[0;34m)\u001b[0m\u001b[0;34m\u001b[0m\u001b[0;34m\u001b[0m\u001b[0m\n\u001b[1;32m    119\u001b[0m         \u001b[0mR\u001b[0m \u001b[0;34m=\u001b[0m \u001b[0mrotationMatrixSph\u001b[0m\u001b[0;34m(\u001b[0m\u001b[0mtheta\u001b[0m\u001b[0;34m,\u001b[0m \u001b[0mphi\u001b[0m\u001b[0;34m)\u001b[0m  \u001b[0;31m# A^cart = R(theta, phi) A^sph\u001b[0m\u001b[0;34m\u001b[0m\u001b[0;34m\u001b[0m\u001b[0m\n\u001b[0;32m--> 120\u001b[0;31m         \u001b[0;32mreturn\u001b[0m \u001b[0mR\u001b[0m \u001b[0;34m@\u001b[0m \u001b[0mAsph\u001b[0m\u001b[0;34m(\u001b[0m\u001b[0mr\u001b[0m\u001b[0;34m,\u001b[0m \u001b[0mtheta\u001b[0m\u001b[0;34m,\u001b[0m \u001b[0mphi\u001b[0m\u001b[0;34m)\u001b[0m\u001b[0;34m\u001b[0m\u001b[0;34m\u001b[0m\u001b[0m\n\u001b[0m\u001b[1;32m    121\u001b[0m \u001b[0;34m\u001b[0m\u001b[0m\n\u001b[1;32m    122\u001b[0m     \u001b[0;32mreturn\u001b[0m \u001b[0mAcart\u001b[0m\u001b[0;34m\u001b[0m\u001b[0;34m\u001b[0m\u001b[0m\n",
      "\u001b[0;32m<ipython-input-2-6216a73d6a09>\u001b[0m in \u001b[0;36m<lambda>\u001b[0;34m(r, theta, phi)\u001b[0m\n\u001b[1;32m      5\u001b[0m \u001b[0;34m\u001b[0m\u001b[0m\n\u001b[1;32m      6\u001b[0m \u001b[0;34m\u001b[0m\u001b[0m\n\u001b[0;32m----> 7\u001b[0;31m \u001b[0mE_cart\u001b[0m \u001b[0;34m=\u001b[0m \u001b[0mfieldTrasformSph2cart\u001b[0m\u001b[0;34m(\u001b[0m\u001b[0;32mlambda\u001b[0m \u001b[0mr\u001b[0m\u001b[0;34m,\u001b[0m \u001b[0mtheta\u001b[0m\u001b[0;34m,\u001b[0m \u001b[0mphi\u001b[0m\u001b[0;34m:\u001b[0m \u001b[0mMmn\u001b[0m\u001b[0;34m(\u001b[0m\u001b[0mm\u001b[0m\u001b[0;34m,\u001b[0m \u001b[0mn\u001b[0m\u001b[0;34m,\u001b[0m \u001b[0mr\u001b[0m\u001b[0;34m,\u001b[0m \u001b[0mtheta\u001b[0m\u001b[0;34m,\u001b[0m \u001b[0mphi\u001b[0m\u001b[0;34m,\u001b[0m \u001b[0msuperscript\u001b[0m\u001b[0;34m=\u001b[0m\u001b[0;36m3\u001b[0m\u001b[0;34m)\u001b[0m\u001b[0;34m)\u001b[0m\u001b[0;34m\u001b[0m\u001b[0;34m\u001b[0m\u001b[0m\n\u001b[0m\u001b[1;32m      8\u001b[0m \u001b[0;31m#E_cart = fieldTrasformSph2cart(lambda r, theta, phi:  Xmn_Jackson(m, n, r, theta, phi))\u001b[0m\u001b[0;34m\u001b[0m\u001b[0;34m\u001b[0m\u001b[0m\n\u001b[1;32m      9\u001b[0m \u001b[0mH_cart\u001b[0m \u001b[0;34m=\u001b[0m \u001b[0mfieldTrasformSph2cart\u001b[0m\u001b[0;34m(\u001b[0m\u001b[0;32mlambda\u001b[0m \u001b[0mr\u001b[0m\u001b[0;34m,\u001b[0m \u001b[0mtheta\u001b[0m\u001b[0;34m,\u001b[0m \u001b[0mphi\u001b[0m\u001b[0;34m:\u001b[0m \u001b[0;34m-\u001b[0m\u001b[0;36m1j\u001b[0m \u001b[0;34m*\u001b[0m \u001b[0mNmn\u001b[0m\u001b[0;34m(\u001b[0m\u001b[0mm\u001b[0m\u001b[0;34m,\u001b[0m \u001b[0mn\u001b[0m\u001b[0;34m,\u001b[0m \u001b[0mr\u001b[0m\u001b[0;34m,\u001b[0m \u001b[0mtheta\u001b[0m\u001b[0;34m,\u001b[0m \u001b[0mphi\u001b[0m\u001b[0;34m,\u001b[0m \u001b[0msuperscript\u001b[0m\u001b[0;34m=\u001b[0m\u001b[0;36m3\u001b[0m\u001b[0;34m)\u001b[0m\u001b[0;34m)\u001b[0m\u001b[0;34m\u001b[0m\u001b[0;34m\u001b[0m\u001b[0m\n",
      "\u001b[0;32m~/Documents/code/quant_sphere/src/VSH.py\u001b[0m in \u001b[0;36mMmn\u001b[0;34m(m, n, rho, theta, phi, superscript)\u001b[0m\n\u001b[1;32m    371\u001b[0m \u001b[0;34m\u001b[0m\u001b[0m\n\u001b[1;32m    372\u001b[0m     \u001b[0;31m# to prevent devision by zero\u001b[0m\u001b[0;34m\u001b[0m\u001b[0;34m\u001b[0m\u001b[0m\n\u001b[0;32m--> 373\u001b[0;31m     \u001b[0mrho\u001b[0m\u001b[0;34m[\u001b[0m\u001b[0mnp\u001b[0m\u001b[0;34m.\u001b[0m\u001b[0mabs\u001b[0m\u001b[0;34m(\u001b[0m\u001b[0mrho\u001b[0m\u001b[0;34m)\u001b[0m \u001b[0;34m<\u001b[0m \u001b[0;36m1e-15\u001b[0m\u001b[0;34m]\u001b[0m \u001b[0;34m=\u001b[0m \u001b[0;36m1e-15\u001b[0m\u001b[0;34m\u001b[0m\u001b[0;34m\u001b[0m\u001b[0m\n\u001b[0m\u001b[1;32m    374\u001b[0m     \u001b[0mtheta\u001b[0m\u001b[0;34m[\u001b[0m\u001b[0mnp\u001b[0m\u001b[0;34m.\u001b[0m\u001b[0mabs\u001b[0m\u001b[0;34m(\u001b[0m\u001b[0mtheta\u001b[0m\u001b[0;34m)\u001b[0m \u001b[0;34m<\u001b[0m \u001b[0;36m1e-15\u001b[0m\u001b[0;34m]\u001b[0m \u001b[0;34m=\u001b[0m \u001b[0;36m1e-15\u001b[0m\u001b[0;34m\u001b[0m\u001b[0;34m\u001b[0m\u001b[0m\n\u001b[1;32m    375\u001b[0m \u001b[0;34m\u001b[0m\u001b[0m\n",
      "\u001b[0;31mTypeError\u001b[0m: 'numpy.float64' object does not support item assignment"
     ]
    }
   ],
   "source": [
    "r, theta, phi = 100, np.pi/2, 0.3\n",
    "x, y, z = sph2cart(r, theta, phi)\n",
    "\n",
    "rr = np.linspace(0.1, stop=6, num=300)\n",
    "\n",
    "jj22 = []\n",
    "hh = []\n",
    "hh2 = []\n",
    "for r in rr:\n",
    "    x, y, z = sph2cart(r, theta, phi)\n",
    "    x2, y2, z2 = sph2cart(r, 1.4*theta, phi)\n",
    "    \n",
    "    jj22.append(j2_canonical(x, y, z, E_cart, H_cart, part=\"both\", dh=1e-4))\n",
    "    hh.append(helicity_(x, y, z, E_cart, H_cart))\n",
    "    hh2.append(helicity_(x2, y2, z2, E_cart, H_cart))\n",
    "    \n",
    "plt.plot(rr, jj22)\n",
    "plt.show()\n",
    "plt.plot(rr, hh)\n",
    "plt.plot(rr, hh2)\n",
    "plt.show()\n"
   ]
  },
  {
   "cell_type": "code",
   "execution_count": null,
   "metadata": {},
   "outputs": [],
   "source": []
  },
  {
   "cell_type": "code",
   "execution_count": null,
   "metadata": {},
   "outputs": [],
   "source": []
  },
  {
   "cell_type": "markdown",
   "metadata": {},
   "source": [
    "# Является ли M(r) соб. функцией j^2 интегрально?"
   ]
  },
  {
   "cell_type": "code",
   "execution_count": 4,
   "metadata": {},
   "outputs": [],
   "source": [
    "m, n = 2, 2\n",
    "\n",
    "r, theta, phi = 1, 0.5, 3\n",
    "x, y, z = sph2cart(r, theta, phi)\n",
    "\n",
    "\n",
    "E_cart = fieldTrasformSph2cart(lambda r, theta, phi: Mmn(m, n, r, theta, phi, superscript=1))\n",
    "#E_cart = fieldTrasformSph2cart(lambda r, theta, phi: Xmn_Jackson(m, n, r, theta, phi))\n",
    "H_cart = fieldTrasformSph2cart(lambda r, theta, phi: -1j * Nmn(m, n, r, theta, phi, superscript=1))\n",
    "\n",
    "j2func = lambda x,y,z: np.real(j2_canonical(x, y, z, E_cart, H_cart, part=\"electric\", dh=1e-4))\n",
    "wfunc = lambda x,y,z: np.real(w_canonical(x, y, z, E_cart, H_cart, part=\"electric\", dh=1e-4))"
   ]
  },
  {
   "cell_type": "code",
   "execution_count": 20,
   "metadata": {},
   "outputs": [
    {
     "data": {
      "image/png": "[encoded data removed]",
      "text/plain": [
       "<Figure size 432x288 with 1 Axes>"
      ]
     },
     "metadata": {
      "needs_background": "light"
     },
     "output_type": "display_data"
    }
   ],
   "source": [
    "rr = np.linspace(0, stop=40, num=300)\n",
    "theta, phi = 0.5, 2\n",
    "\n",
    "jj22 = []\n",
    "for r in rr:\n",
    "    jj22.append(j2func(r, theta, phi))\n",
    "\n",
    "plt.plot(rr, jj22)\n",
    "plt.ylim(-100, 100)\n",
    "plt.show()"
   ]
  },
  {
   "cell_type": "code",
   "execution_count": 5,
   "metadata": {},
   "outputs": [],
   "source": [
    "ranges = [\n",
    "    [-3, 3], \n",
    "    [-3, 3], \n",
    "    [-3, 3]\n",
    "]\n",
    "\n",
    "int_j2 = integrate.nquad(\n",
    "    j2func, \n",
    "    ranges,\n",
    "    opts={'epsrel':1e-2, 'points':[0,0,0], 'limit':20}\n",
    ")[0]\n",
    "\n",
    "int_w = integrate.nquad(\n",
    "    wfunc, \n",
    "    ranges,\n",
    "    opts={'epsrel':1e-2, 'points':[0,0,0], 'limit':20}\n",
    ")[0]"
   ]
  },
  {
   "cell_type": "code",
   "execution_count": 6,
   "metadata": {},
   "outputs": [
    {
     "data": {
      "text/plain": [
       "0.7797097268959426"
      ]
     },
     "execution_count": 6,
     "metadata": {},
     "output_type": "execute_result"
    }
   ],
   "source": [
    "int_j2 / int_w**2"
   ]
  },
  {
   "cell_type": "code",
   "execution_count": 7,
   "metadata": {},
   "outputs": [],
   "source": [
    "def AM_density(x, y, z, fE, fH):\n",
    "    r = np.array([x, y, z])\n",
    "    return 1/(4*np.pi) * np.cross(\n",
    "        r, \n",
    "        0.5 * np.real(np.cross(np.conj(fE(x,y,z)), fH(x,y,z)))\n",
    "    )\n",
    "\n",
    "def W_density(x, y, z, fE, fH):\n",
    "    E = fE(x,y,z)\n",
    "    H = fH(x,y,z)\n",
    "    \n",
    "    EE = np.linalg.norm(E)**2\n",
    "    HH = np.linalg.norm(H)**2\n",
    "    \n",
    "    return 1/(16*np.pi) * (EE + HH) "
   ]
  },
  {
   "cell_type": "code",
   "execution_count": 8,
   "metadata": {},
   "outputs": [
    {
     "data": {
      "text/plain": [
       "0.0006964898894658734"
      ]
     },
     "execution_count": 8,
     "metadata": {},
     "output_type": "execute_result"
    }
   ],
   "source": [
    "W_density(1, 2, 3, E_cart, H_cart)"
   ]
  },
  {
   "cell_type": "code",
   "execution_count": 9,
   "metadata": {},
   "outputs": [
    {
     "name": "stderr",
     "output_type": "stream",
     "text": [
      "ic| AM2: 0.2343347429670155\n",
      "    W**2: 0.23298644499830698\n",
      "    AM2/W**2: 1.0057870232266874\n",
      "    n*(n+1): 2\n"
     ]
    }
   ],
   "source": [
    "m, n = 1, 1\n",
    "\n",
    "r, theta, phi = 1, 0.5, 3\n",
    "x, y, z = sph2cart(r, theta, phi)\n",
    "\n",
    "\n",
    "E_cart = fieldTrasformSph2cart(lambda r, theta, phi: Mmn(m, n, r, theta, phi, superscript=1))\n",
    "#E_cart = fieldTrasformSph2cart(lambda r, theta, phi: Xmn_Jackson(m, n, r, theta, phi))\n",
    "H_cart = fieldTrasformSph2cart(lambda r, theta, phi: -1j * Nmn(m, n, r, theta, phi, superscript=1))\n",
    "\n",
    "\n",
    "ranges = [\n",
    "    [-10, 10], \n",
    "    [-10, 10], \n",
    "    [-10, 10]\n",
    "]\n",
    "\n",
    "AMx = integrate.nquad(\n",
    "    lambda x,y,z: AM_density(x, y, z, E_cart, H_cart)[0], \n",
    "    ranges,\n",
    "    opts={'epsrel':1e-2, 'points':[0,0,0], 'limit':20}  \n",
    ")[0]\n",
    "\n",
    "AMy = integrate.nquad(\n",
    "    lambda x,y,z: AM_density(x, y, z, E_cart, H_cart)[1], \n",
    "    ranges,\n",
    "    opts={'epsrel':1e-2, 'points':[0,0,0], 'limit':20}  \n",
    ")[0]\n",
    "\n",
    "AMz = integrate.nquad(\n",
    "    lambda x,y,z: AM_density(x, y, z, E_cart, H_cart)[2], \n",
    "    ranges,\n",
    "    opts={'epsrel':1e-2, 'points':[0,0,0], 'limit':20}  \n",
    ")[0]\n",
    "\n",
    "W = integrate.nquad(\n",
    "    lambda x,y,z: W_density(x, y, z, E_cart, H_cart), \n",
    "    ranges,\n",
    "    opts={'epsrel':1e-2, 'points':[0,0,0], 'limit':20}  \n",
    ")[0]\n",
    "\n",
    "AM2 = AMx**2 + AMy**2 + AMz**2 \n",
    "\n",
    "ic(\n",
    "    AM2,\n",
    "    W**2,\n",
    "    AM2/W**2,\n",
    "    n*(n+1)\n",
    ");"
   ]
  },
  {
   "cell_type": "code",
   "execution_count": null,
   "metadata": {},
   "outputs": [],
   "source": []
  },
  {
   "cell_type": "code",
   "execution_count": 4,
   "metadata": {},
   "outputs": [
    {
     "data": {
      "image/png": "[encoded data removed]",
      "text/plain": [
       "<Figure size 432x288 with 1 Axes>"
      ]
     },
     "metadata": {
      "needs_background": "light"
     },
     "output_type": "display_data"
    },
    {
     "name": "stderr",
     "output_type": "stream",
     "text": [
      "ic| (n+1)*(n+2): 20\n",
      "    n*(n+1): 12\n",
      "    m**2: 1\n",
      "    (m+1)**2: 4\n",
      "    np.real(j2canon)[0]: 14.986194787219512\n",
      "    np.imag(j2canon)[0]: -5.505515618307019\n",
      "    np.real(j2canon2)[0]: -12.986193140923866\n",
      "    np.imag(j2canon2)[0]: 3.5055144621855914\n"
     ]
    }
   ],
   "source": [
    "eps_dielectric = 10 + 0.0j\n",
    "mu_dielectric = 1.0 + 0.0j\n",
    "eps_out = 1\n",
    "mu_out = 1\n",
    "\n",
    "a = 1\n",
    "omega = 2*const.speed_of_light\n",
    "\n",
    "n, m = 3, 1\n",
    "#m = 1\n",
    "\n",
    "mode_type = \"TE\"\n",
    "particle_type = \"dielectric\"\n",
    "\n",
    "r = 2.1*a\n",
    "theta = 1.2\n",
    "phi = 1.0\n",
    "\n",
    "x = r * np.sin(theta) * np.cos(phi)\n",
    "y = r * np.sin(theta) * np.sin(phi)\n",
    "z = r * np.cos(theta) \n",
    "\n",
    "epshSpace = 10.0**np.linspace(-4.2, stop=-2, num=7)\n",
    "j2canon = np.zeros(np.size(epshSpace)) + 0.0j\n",
    "j2canon2 = np.zeros(np.size(epshSpace)) + 0.0j\n",
    "\n",
    "part = \"electric\"\n",
    "\n",
    "\n",
    "for (i, epsh) in enumerate(epshSpace):\n",
    "    J2canon = J2_canonical_(\n",
    "        m, n, x, y, z, mode_type, a, \n",
    "        omega, particle_type, eps_out, mu_out, eps_dielectric, mu_dielectric, part=part, epsh=epsh\n",
    "    )\n",
    "    J2canon2 = J2_canonical2_(\n",
    "        m, n, x, y, z, mode_type, a, \n",
    "        omega, particle_type, eps_out, mu_out, eps_dielectric, mu_dielectric, part=part, epsh=epsh\n",
    "    )\n",
    "    W = W_(\n",
    "        m, n, r, theta, phi, mode_type, a, \n",
    "        omega, particle_type, eps_out, mu_out, eps_dielectric, mu_dielectric, part=part\n",
    "    )\n",
    "    j2canon[i] = J2canon / (W/np.abs(omega))\n",
    "    j2canon2[i] = J2canon2 / (W/np.abs(omega))\n",
    "\n",
    "\n",
    "plt.plot(epshSpace, np.real(j2canon), c=\"red\", label=\"1 Re\")\n",
    "plt.plot(epshSpace, np.imag(j2canon), c=\"red\", ls=\"--\", label=\"1 Im\")\n",
    "\n",
    "plt.plot(epshSpace, np.real(j2canon2), c=\"blue\", label=\"2 Re\")\n",
    "plt.plot(epshSpace, np.imag(j2canon2), c=\"blue\", ls=\"--\", label=\"2 Im\")\n",
    "\n",
    "plt.xscale(\"log\")\n",
    "#plt.yscale(\"log\")\n",
    "plt.legend()\n",
    "plt.ylabel(\"$\\mathbf{j}^2$\")\n",
    "plt.xlabel(\"$dx/a$\")\n",
    "plt.grid()\n",
    "#plt.ylim(0, 12)\n",
    "plt.show()\n",
    "\n",
    "\n",
    "ic(\n",
    "    (n+1)*(n+2),\n",
    "    n*(n+1),\n",
    "    m**2,\n",
    "    (m+1)**2,\n",
    "    np.real(j2canon)[0], \n",
    "    np.imag(j2canon)[0],\n",
    "    np.real(j2canon2)[0], \n",
    "    np.imag(j2canon2)[0]\n",
    ");"
   ]
  },
  {
   "cell_type": "code",
   "execution_count": 47,
   "metadata": {},
   "outputs": [
    {
     "name": "stderr",
     "output_type": "stream",
     "text": [
      "ic| np.imag(np.conjugate(zj(j-1, k*r) - zj(j+1, k*r)) * zj(j, k*r)): 0.031280844086328786\n",
      "    np.abs(k*r)**(2*j-1) / (sp.factorial2(2*j-1)*sp.factorial2(2*j+1)) * np.imag(k)/np.abs(k): 0.033333333333333326\n"
     ]
    }
   ],
   "source": [
    "k = 1 + 0.1j\n",
    "r = 1\n",
    "j = 1\n",
    "\n",
    "def zj(j, r):\n",
    "    return sp.spherical_jn(j, r)\n",
    "    #return spherical_h1(j, r)\n",
    "\n",
    "def foo(r):\n",
    "    return r * zj(j, r)\n",
    "\n",
    "dr = 1e-5\n",
    "\n",
    "np.imag(1/np.conj(k*r) * np.conj((foo(r+dr) - foo(r-dr))/(2*dr)) * zj(j, r))\n",
    "\n",
    "ic(\n",
    "    np.imag(np.conjugate(zj(j-1, k*r) - zj(j+1, k*r)) * zj(j, k*r)),\n",
    "    np.abs(k*r)**(2*j-1) / (sp.factorial2(2*j-1)*sp.factorial2(2*j+1)) * np.imag(k)/np.abs(k)\n",
    ");"
   ]
  },
  {
   "cell_type": "code",
   "execution_count": null,
   "metadata": {},
   "outputs": [],
   "source": []
  }
 ],
 "metadata": {
  "kernelspec": {
   "display_name": "Python 3 (ipykernel)",
   "language": "python",
   "name": "python3"
  },
  "language_info": {
   "codemirror_mode": {
    "name": "ipython",
    "version": 3
   },
   "file_extension": ".py",
   "mimetype": "text/x-python",
   "name": "python",
   "nbconvert_exporter": "python",
   "pygments_lexer": "ipython3",
   "version": "3.10.2"
  }
 },
 "nbformat": 4,
 "nbformat_minor": 4
}
