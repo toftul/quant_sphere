{
 "cells": [
  {
   "cell_type": "code",
   "execution_count": 1,
   "metadata": {},
   "outputs": [],
   "source": [
    "from src.dispersion import * \n",
    "from src.VSH import * \n",
    "from src.extra_special import * \n",
    "from src.fields import (\n",
    "    E_,\n",
    "    H_,\n",
    "    E_cart_,\n",
    "    H_cart_\n",
    ")\n",
    "from src.AM import *\n",
    "\n",
    "import numpy as np\n",
    "import scipy.constants as const\n",
    "import scipy.special as sp\n",
    "from scipy import integrate\n",
    "from scipy.misc import derivative\n",
    "from cxroots import Rectangle, AnnulusSector, Circle\n",
    "import cxroots\n",
    "from icecream import ic\n",
    "\n",
    "import matplotlib.pyplot as plt\n",
    "import matplotlib.patheffects as pe  # for text effects \n",
    "plt.rcParams.update({'font.size': 18})\n",
    "\n",
    "Z_0 = np.sqrt(const.mu_0 / const.epsilon_0)  # vacuum impedance"
   ]
  },
  {
   "cell_type": "markdown",
   "metadata": {},
   "source": [
    "Let us calculate \n",
    "$$\n",
    "[\\mathbf{j}^2] = \\frac{\\langle \\psi | \\hat{\\mathbf{J}}^2 | \\psi \\rangle}{\\langle \\psi |\\psi \\rangle}\n",
    "$$\n",
    "for $\\psi$ being just a VSH."
   ]
  },
  {
   "cell_type": "code",
   "execution_count": 116,
   "metadata": {},
   "outputs": [],
   "source": [
    "def cart2sph(x, y, z):\n",
    "    \"\"\"\n",
    "        https://en.wikipedia.org/wiki/Spherical_coordinate_system#Cartesian_coordinates\n",
    "    \"\"\"\n",
    "    r = np.sqrt(x**2 + y**2 + z**2)\n",
    "    theta = np.arctan2(np.sqrt(x**2 + y**2), z)  # [0, π]\n",
    "    phi = np.arctan2(y, x)  # [0, 2π]\n",
    "    return r, theta, phi\n",
    "\n",
    "def sph2cart(r, theta, phi):\n",
    "    x = r * np.sin(theta) * np.cos(phi)\n",
    "    y = r * np.sin(theta) * np.sin(phi)\n",
    "    z = r * np.cos(theta) \n",
    "    return x, y, z\n",
    "\n",
    "\n",
    "def rotationMatrixSph(theta, phi):\n",
    "    \"\"\"\n",
    "        A^cart = R(theta, phi) A^sph\n",
    "    \"\"\"\n",
    "    return np.array([\n",
    "        [np.sin(theta)*np.cos(phi), np.cos(theta)*np.cos(phi), -np.sin(phi)],\n",
    "        [np.sin(theta)*np.sin(phi), np.cos(theta)*np.sin(phi),  np.cos(phi)],\n",
    "        [            np.cos(theta),            -np.sin(theta),            0]\n",
    "    ])\n",
    "\n",
    "def rotationMatrixCyl3D(phi, axis='z'):\n",
    "    \"\"\"\n",
    "        https://en.wikipedia.org/wiki/Rotation_matrix#In_three_dimensions\n",
    "        A^cart = R(phi) A^sph\n",
    "    \"\"\"\n",
    "    if axis == 'x':\n",
    "        return np.array([\n",
    "            [1,           0,            0],\n",
    "            [0, np.cos(phi), -np.sin(phi)],\n",
    "            [0, np.sin(phi),  np.cos(phi)]\n",
    "        ])\n",
    "    elif axis == 'y':\n",
    "        return np.array([\n",
    "            [ np.cos(phi), 0, np.sin(phi)],\n",
    "            [           0, 1,           0],\n",
    "            [-np.sin(phi), 0, np.cos(phi)]\n",
    "        ])\n",
    "    elif axis == 'z':\n",
    "        return np.array([\n",
    "            [np.cos(phi), -np.sin(phi), 0],\n",
    "            [np.sin(phi),  np.cos(phi), 0],\n",
    "            [          0,            0, 1]\n",
    "        ])\n",
    "    else:\n",
    "        raise NameError('Invalid axis!')\n",
    "\n",
    "\n",
    "def fieldTrasformSph2cart(Asph, args=()):\n",
    "    \"\"\"\n",
    "        Asph(r, θ, φ) --- vector field in spherical coord basis\n",
    "        \n",
    "        returns Acart(x, y, z) --- vector field function in cartesian coord basis\n",
    "    \"\"\"\n",
    "    def Acart(x, y, z):\n",
    "        r, theta, phi = cart2sph(x, y, z)\n",
    "        R = rotationMatrixSph(theta, phi)  # A^cart = R(theta, phi) A^sph\n",
    "        return R @ Asph(r, theta, phi, *args)\n",
    "    \n",
    "    return Acart\n",
    "    "
   ]
  },
  {
   "cell_type": "code",
   "execution_count": 161,
   "metadata": {},
   "outputs": [],
   "source": [
    "def Asph(r, theta, phi):\n",
    "    return np.array([\n",
    "        r, 1j*r*np.cos(theta), 0\n",
    "    ])\n",
    "\n",
    "Acart = fieldTrasformSph2cart(Asph)"
   ]
  },
  {
   "cell_type": "code",
   "execution_count": 162,
   "metadata": {},
   "outputs": [
    {
     "name": "stderr",
     "output_type": "stream",
     "text": [
      "ic| np.linalg.norm(Acart(x, y, z))**2: 15.000000000000002\n",
      "    np.linalg.norm(Asph(r, theta, phi))**2: 15.000000000000002\n"
     ]
    }
   ],
   "source": [
    "x, y, z = 2, 3, 1\n",
    "r, theta, phi = cart2sph(x, y, z)\n",
    "\n",
    "ic(\n",
    "    np.linalg.norm(Acart(x, y, z))**2,\n",
    "    np.linalg.norm(Asph(r, theta, phi))**2\n",
    ");"
   ]
  },
  {
   "cell_type": "code",
   "execution_count": 5,
   "metadata": {},
   "outputs": [],
   "source": [
    "def D(foo, x, y, z, variables='nan', dh=1e-5, order=3):\n",
    "    def d3(foo, x, y, z, var='nan', n=1):\n",
    "        dd = np.nan\n",
    "        if var == 'x':\n",
    "            dd = derivative(lambda x: foo(x, y, z), x, dx=dh, order=order, n=n)\n",
    "        elif var == 'y':\n",
    "            dd = derivative(lambda y: foo(x, y, z), y, dx=dh, order=order, n=n)\n",
    "        elif var == 'z':\n",
    "            dd = derivative(lambda z: foo(x, y, z), z, dx=dh, order=order, n=n)\n",
    "    \n",
    "        return dd\n",
    "    \n",
    "    if len(variables) == 1:\n",
    "        return d3(foo, x, y, z, var=variables)\n",
    "    elif len(variables) == 2:\n",
    "        if variables[0] == variables[1]:\n",
    "            \"\"\"\n",
    "                For the case of xx, yy, zz\n",
    "                use second order derivative from scipy (parameter n=2)\n",
    "                https://github.com/scipy/scipy/blob/v1.7.1/scipy/misc/common.py#L75-L145\n",
    "            \"\"\"\n",
    "            return d3(foo, x, y, z, var=variables[0], n=2)\n",
    "        else:\n",
    "            return d3(\n",
    "                lambda x, y, z: d3(foo, x, y, z, var=variables[0]), \n",
    "                x, y, z, \n",
    "                var=variables[1]\n",
    "            )"
   ]
  },
  {
   "cell_type": "code",
   "execution_count": 7,
   "metadata": {},
   "outputs": [
    {
     "data": {
      "text/plain": [
       "array([1.00000008, 0.        ])"
      ]
     },
     "execution_count": 7,
     "metadata": {},
     "output_type": "execute_result"
    }
   ],
   "source": [
    "def f(x, y, z):\n",
    "    return np.array([x**2 + x*y*z, x**3])\n",
    "\n",
    "x, y, z = np.array([1, 1, 1])\n",
    "\n",
    "D(f, x,y,z, 'xy', dh=1e-5, order=3)"
   ]
  },
  {
   "cell_type": "code",
   "execution_count": 252,
   "metadata": {},
   "outputs": [],
   "source": [
    "def j2_canonical(x, y, z, fE, fH, part=\"both\", dh=1e-5):\n",
    "    \"\"\"\n",
    "        Electric and magnetic field functions are expected to be\n",
    "            fE = fE(x, y, z)\n",
    "            fH = fH(x, y, z)\n",
    "    \"\"\"\n",
    "    factor_el = 1\n",
    "    factor_mag = 1\n",
    "    if part == \"electric\":\n",
    "        factor_mag = 0\n",
    "    if part == \"magnetic\":\n",
    "        factor_el = 0\n",
    "    \n",
    "    E, H = fE(x, y, z), fH(x, y, z)\n",
    "    dx_E, dx_H = D(fE, x, y, z, 'x'), D(fH, x, y, z, 'x')\n",
    "    dy_E, dy_H = D(fE, x, y, z, 'y'), D(fH, x, y, z, 'y')\n",
    "    dz_E, dz_H = D(fE, x, y, z, 'z'), D(fH, x, y, z, 'z')\n",
    "    \n",
    "    ddxx_E, ddxx_H = D(fE, x, y, z, 'xx'), D(fH, x, y, z, 'xx')\n",
    "    ddyy_E, ddyy_H = D(fE, x, y, z, 'yy'), D(fH, x, y, z, 'yy')\n",
    "    ddzz_E, ddzz_H = D(fE, x, y, z, 'zz'), D(fH, x, y, z, 'zz')\n",
    "    \n",
    "    ddxy_E, ddxy_H = D(fE, x, y, z, 'xy'), D(fH, x, y, z, 'xy')\n",
    "    ddxz_E, ddxz_H = D(fE, x, y, z, 'xz'), D(fH, x, y, z, 'xz')\n",
    "    ddzy_E, ddzy_H = D(fE, x, y, z, 'zy'), D(fH, x, y, z, 'zy')\n",
    "    \n",
    "    ELECTRIC_PART = (\n",
    "        2 * np.dot(np.conjugate(E), E)\n",
    "        - np.dot(\n",
    "            np.conjugate(E),\n",
    "            2*x*y*ddxy_E + 2*y*z*ddzy_E + 2*z*x*ddxz_E - (y*y+z*z)*ddxx_E - (x*x+z*z)*ddyy_E - (x*x+y*y)*ddzz_E\n",
    "        )\n",
    "        + 2j * np.dot(\n",
    "            np.array([x, y, z]),\n",
    "            np.conjugate(E[0])*dx_E + np.conjugate(E[1])*dy_E + np.conjugate(E[2])*dz_E\n",
    "        )\n",
    "    )\n",
    "\n",
    "    MAGNETIC_PART = (\n",
    "        2 * np.dot(np.conjugate(H), H)\n",
    "        - np.dot(\n",
    "            np.conjugate(H),\n",
    "            2*x*y*ddxy_H + 2*y*z*ddzy_H + 2*z*x*ddxz_H - (y*y+z*z)*ddxx_H - (x*x+z*z)*ddyy_H - (x*x+y*y)*ddzz_H\n",
    "        )\n",
    "        + 2j * np.dot(\n",
    "            np.array([x, y, z]),\n",
    "            np.conjugate(H[0])*dx_H + np.conjugate(H[1])*dy_H + np.conjugate(H[2])*dz_H\n",
    "        )\n",
    "    )\n",
    "\n",
    "    return (factor_el * ELECTRIC_PART + factor_mag * MAGNETIC_PART) / (factor_el*np.linalg.norm(E)**2 + factor_mag*np.linalg.norm(H)**2)"
   ]
  },
  {
   "cell_type": "code",
   "execution_count": 256,
   "metadata": {},
   "outputs": [
    {
     "name": "stderr",
     "output_type": "stream",
     "text": [
      "ic| np.real(j2): -0.23542220943100853\n",
      "    np.imag(j2): 4.077756899888371\n",
      "    n*(n+1): 12\n"
     ]
    }
   ],
   "source": [
    "m, n = 0, 3\n",
    "\n",
    "r, theta, phi = 1, 0.5, 3\n",
    "x, y, z = sph2cart(r, theta, phi)\n",
    "\n",
    "# TE mode\n",
    "E_cart = fieldTrasformSph2cart(lambda r, theta, phi: Mmn(m, n, r, theta, phi, superscript=1))\n",
    "#E_cart = fieldTrasformSph2cart(lambda r, theta, phi: Xmn_Jackson(m, n, r, theta, phi))\n",
    "H_cart = fieldTrasformSph2cart(lambda r, theta, phi: -1j * Nmn(m, n, r, theta, phi, superscript=1))\n",
    "\n",
    "j2 = j2_canonical(x, y, z, E_cart, H_cart, part=\"magnetic\", dh=1e-4)\n",
    "ic(\n",
    "    np.real(j2),\n",
    "    np.imag(j2),\n",
    "    n*(n+1)\n",
    ");"
   ]
  },
  {
   "cell_type": "code",
   "execution_count": null,
   "metadata": {},
   "outputs": [],
   "source": []
  },
  {
   "cell_type": "code",
   "execution_count": 4,
   "metadata": {},
   "outputs": [
    {
     "data": {
      "image/png": "[encoded data removed]",
      "text/plain": [
       "<Figure size 432x288 with 1 Axes>"
      ]
     },
     "metadata": {
      "needs_background": "light"
     },
     "output_type": "display_data"
    },
    {
     "name": "stderr",
     "output_type": "stream",
     "text": [
      "ic| (n+1)*(n+2): 20\n",
      "    n*(n+1): 12\n",
      "    m**2: 1\n",
      "    (m+1)**2: 4\n",
      "    np.real(j2canon)[0]: 14.986194787219512\n",
      "    np.imag(j2canon)[0]: -5.505515618307019\n",
      "    np.real(j2canon2)[0]: -12.986193140923866\n",
      "    np.imag(j2canon2)[0]: 3.5055144621855914\n"
     ]
    }
   ],
   "source": [
    "eps_dielectric = 10 + 0.0j\n",
    "mu_dielectric = 1.0 + 0.0j\n",
    "eps_out = 1\n",
    "mu_out = 1\n",
    "\n",
    "a = 1\n",
    "omega = 2*const.speed_of_light\n",
    "\n",
    "n, m = 3, 1\n",
    "#m = 1\n",
    "\n",
    "mode_type = \"TE\"\n",
    "particle_type = \"dielectric\"\n",
    "\n",
    "r = 2.1*a\n",
    "theta = 1.2\n",
    "phi = 1.0\n",
    "\n",
    "x = r * np.sin(theta) * np.cos(phi)\n",
    "y = r * np.sin(theta) * np.sin(phi)\n",
    "z = r * np.cos(theta) \n",
    "\n",
    "epshSpace = 10.0**np.linspace(-4.2, stop=-2, num=7)\n",
    "j2canon = np.zeros(np.size(epshSpace)) + 0.0j\n",
    "j2canon2 = np.zeros(np.size(epshSpace)) + 0.0j\n",
    "\n",
    "part = \"electric\"\n",
    "\n",
    "\n",
    "for (i, epsh) in enumerate(epshSpace):\n",
    "    J2canon = J2_canonical_(\n",
    "        m, n, x, y, z, mode_type, a, \n",
    "        omega, particle_type, eps_out, mu_out, eps_dielectric, mu_dielectric, part=part, epsh=epsh\n",
    "    )\n",
    "    J2canon2 = J2_canonical2_(\n",
    "        m, n, x, y, z, mode_type, a, \n",
    "        omega, particle_type, eps_out, mu_out, eps_dielectric, mu_dielectric, part=part, epsh=epsh\n",
    "    )\n",
    "    W = W_(\n",
    "        m, n, r, theta, phi, mode_type, a, \n",
    "        omega, particle_type, eps_out, mu_out, eps_dielectric, mu_dielectric, part=part\n",
    "    )\n",
    "    j2canon[i] = J2canon / (W/np.abs(omega))\n",
    "    j2canon2[i] = J2canon2 / (W/np.abs(omega))\n",
    "\n",
    "\n",
    "plt.plot(epshSpace, np.real(j2canon), c=\"red\", label=\"1 Re\")\n",
    "plt.plot(epshSpace, np.imag(j2canon), c=\"red\", ls=\"--\", label=\"1 Im\")\n",
    "\n",
    "plt.plot(epshSpace, np.real(j2canon2), c=\"blue\", label=\"2 Re\")\n",
    "plt.plot(epshSpace, np.imag(j2canon2), c=\"blue\", ls=\"--\", label=\"2 Im\")\n",
    "\n",
    "plt.xscale(\"log\")\n",
    "#plt.yscale(\"log\")\n",
    "plt.legend()\n",
    "plt.ylabel(\"$\\mathbf{j}^2$\")\n",
    "plt.xlabel(\"$dx/a$\")\n",
    "plt.grid()\n",
    "#plt.ylim(0, 12)\n",
    "plt.show()\n",
    "\n",
    "\n",
    "ic(\n",
    "    (n+1)*(n+2),\n",
    "    n*(n+1),\n",
    "    m**2,\n",
    "    (m+1)**2,\n",
    "    np.real(j2canon)[0], \n",
    "    np.imag(j2canon)[0],\n",
    "    np.real(j2canon2)[0], \n",
    "    np.imag(j2canon2)[0]\n",
    ");"
   ]
  },
  {
   "cell_type": "code",
   "execution_count": null,
   "metadata": {},
   "outputs": [],
   "source": []
  }
 ],
 "metadata": {
  "kernelspec": {
   "display_name": "Python 3 (ipykernel)",
   "language": "python",
   "name": "python3"
  },
  "language_info": {
   "codemirror_mode": {
    "name": "ipython",
    "version": 3
   },
   "file_extension": ".py",
   "mimetype": "text/x-python",
   "name": "python",
   "nbconvert_exporter": "python",
   "pygments_lexer": "ipython3",
   "version": "3.10.0"
  }
 },
 "nbformat": 4,
 "nbformat_minor": 4
}
